{
 "cells": [
  {
   "cell_type": "code",
   "execution_count": 1,
   "metadata": {},
   "outputs": [],
   "source": [
    "import re\n",
    "import os\n",
    "import pandas as pd\n",
    "from string import punctuation as punkt\n",
    "\n",
    "import sqlite3\n",
    "db = sqlite3.connect('OHD.db')\n",
    "cursor = db.cursor()"
   ]
  },
  {
   "cell_type": "code",
   "execution_count": 3,
   "metadata": {},
   "outputs": [
    {
     "data": {
      "text/plain": [
       "['tatian.txt',\n",
       " 'notker.txt',\n",
       " 'eide.txt',\n",
       " 'wessobrunner.txt',\n",
       " 'isidor.txt',\n",
       " 'merseburger2.txt',\n",
       " 'muspilli.txt',\n",
       " 'hildebrandslied.txt',\n",
       " 'glossen.txt',\n",
       " 'ludwigslied.txt',\n",
       " 'merseburger1.txt',\n",
       " 'evangelienbuch.txt',\n",
       " 'physyologus.txt']"
      ]
     },
     "execution_count": 3,
     "metadata": {},
     "output_type": "execute_result"
    }
   ],
   "source": [
    "os.listdir('ahd-texts/texts')"
   ]
  },
  {
   "cell_type": "code",
   "execution_count": 4,
   "metadata": {},
   "outputs": [],
   "source": [
    "with open('ahd-texts/texts/tatian.txt') as f:\n",
    "    text = re.sub('<.*?>', '',f.read().strip()).split('\\n')"
   ]
  },
  {
   "cell_type": "code",
   "execution_count": 5,
   "metadata": {},
   "outputs": [],
   "source": [
    "result = []\n",
    "cap = ''\n",
    "sentence = ''\n",
    "for i in text:\n",
    "    if i.startswith('Cap'):\n",
    "        cap = i\n",
    "    elif i.startswith('Sentence'):\n",
    "        sentence = i\n",
    "    else:\n",
    "        if len(result) % 2 == 0:\n",
    "            result.append(tuple([cap, sentence, i, 'L']))\n",
    "        else:\n",
    "            result.append(tuple([cap, sentence, i, 'D']))"
   ]
  },
  {
   "cell_type": "code",
   "execution_count": 6,
   "metadata": {},
   "outputs": [],
   "source": [
    "df = pd.DataFrame(result)"
   ]
  },
  {
   "cell_type": "code",
   "execution_count": 10,
   "metadata": {},
   "outputs": [],
   "source": [
    "for i in result:\n",
    "    cursor.execute('INSERT INTO Sentences (id_text, paragraph, sub) VALUES (?, ?, ?)', tuple([1, i[0], i[1]]))\n",
    "db.commit()"
   ]
  },
  {
   "cell_type": "code",
   "execution_count": 11,
   "metadata": {},
   "outputs": [
    {
     "data": {
      "text/html": [
       "<div>\n",
       "<style scoped>\n",
       "    .dataframe tbody tr th:only-of-type {\n",
       "        vertical-align: middle;\n",
       "    }\n",
       "\n",
       "    .dataframe tbody tr th {\n",
       "        vertical-align: top;\n",
       "    }\n",
       "\n",
       "    .dataframe thead th {\n",
       "        text-align: right;\n",
       "    }\n",
       "</style>\n",
       "<table border=\"1\" class=\"dataframe\">\n",
       "  <thead>\n",
       "    <tr style=\"text-align: right;\">\n",
       "      <th></th>\n",
       "      <th>0</th>\n",
       "      <th>1</th>\n",
       "      <th>2</th>\n",
       "      <th>3</th>\n",
       "    </tr>\n",
       "  </thead>\n",
       "  <tbody>\n",
       "    <tr>\n",
       "      <th>0</th>\n",
       "      <td>Cap. 2</td>\n",
       "      <td>Sentence: 1</td>\n",
       "      <td>Fuit in diebus Herodis regis Iudeę quidam sace...</td>\n",
       "      <td>L</td>\n",
       "    </tr>\n",
       "    <tr>\n",
       "      <th>1</th>\n",
       "      <td>Cap. 2</td>\n",
       "      <td>Sentence: 1</td>\n",
       "      <td>Uuas in tagun Herodes thes cuninges Iudeno sum...</td>\n",
       "      <td>D</td>\n",
       "    </tr>\n",
       "    <tr>\n",
       "      <th>2</th>\n",
       "      <td>Cap. 2</td>\n",
       "      <td>Sentence: 2</td>\n",
       "      <td>Erant autem iusti ambo ante deum, incedentes i...</td>\n",
       "      <td>L</td>\n",
       "    </tr>\n",
       "    <tr>\n",
       "      <th>3</th>\n",
       "      <td>Cap. 2</td>\n",
       "      <td>Sentence: 2</td>\n",
       "      <td>Siu uuarun rehtiu beidu fora gote, gangenti in...</td>\n",
       "      <td>D</td>\n",
       "    </tr>\n",
       "    <tr>\n",
       "      <th>4</th>\n",
       "      <td>Cap. 2</td>\n",
       "      <td>Sentence: 3</td>\n",
       "      <td>Factum est autem cum sacerdotio fungeretur in ...</td>\n",
       "      <td>L</td>\n",
       "    </tr>\n",
       "  </tbody>\n",
       "</table>\n",
       "</div>"
      ],
      "text/plain": [
       "        0            1                                                  2  3\n",
       "0  Cap. 2  Sentence: 1  Fuit in diebus Herodis regis Iudeę quidam sace...  L\n",
       "1  Cap. 2  Sentence: 1  Uuas in tagun Herodes thes cuninges Iudeno sum...  D\n",
       "2  Cap. 2  Sentence: 2  Erant autem iusti ambo ante deum, incedentes i...  L\n",
       "3  Cap. 2  Sentence: 2  Siu uuarun rehtiu beidu fora gote, gangenti in...  D\n",
       "4  Cap. 2  Sentence: 3  Factum est autem cum sacerdotio fungeretur in ...  L"
      ]
     },
     "execution_count": 11,
     "metadata": {},
     "output_type": "execute_result"
    }
   ],
   "source": [
    "df.head()"
   ]
  },
  {
   "cell_type": "code",
   "execution_count": 14,
   "metadata": {},
   "outputs": [
    {
     "data": {
      "text/plain": [
       "'cursor'"
      ]
     },
     "execution_count": 14,
     "metadata": {},
     "output_type": "execute_result"
    }
   ],
   "source": [
    "'cursor,!'.strip(punkt)"
   ]
  },
  {
   "cell_type": "code",
   "execution_count": 17,
   "metadata": {},
   "outputs": [],
   "source": [
    "for key, value in enumerate(result):\n",
    "    for i in value[2].split():\n",
    "        norm = i.strip(punkt).lower()\n",
    "        if re.match('[0-9]+', norm): lang = 'N'\n",
    "        else: lang = value[3]\n",
    "        cursor.execute('INSERT INTO Tokens (id_sent, token, normalized, lang) VALUES (?, ?, ?, ?)', \n",
    "                       tuple([key+1, i, norm, lang]))\n",
    "db.commit()"
   ]
  },
  {
   "cell_type": "code",
   "execution_count": 18,
   "metadata": {},
   "outputs": [],
   "source": [
    "with open('ahd-texts/texts/notker.txt') as f:\n",
    "    text = re.sub('<.*?>', '',f.read().strip()).split('\\n')"
   ]
  },
  {
   "cell_type": "code",
   "execution_count": 33,
   "metadata": {},
   "outputs": [],
   "source": [
    "with open('ahd-texts/texts/eide.txt') as f:\n",
    "    text = re.sub('<.*?>', '',f.read().replace(u'\\xa0', u' ').replace('\\n \\n', '\\n\\n').strip()).split('\\n\\n')"
   ]
  },
  {
   "cell_type": "code",
   "execution_count": null,
   "metadata": {},
   "outputs": [],
   "source": [
    "result = []\n",
    "cap = ''\n",
    "sentence = ''\n",
    "for i in text:\n",
    "    if i.startswith('Cap'):\n",
    "        cap = i\n",
    "    elif i.startswith('Sentence'):\n",
    "        sentence = i\n",
    "    else:\n",
    "        if len(result) % 2 == 0:\n",
    "            result.append(tuple([cap, sentence, i, 'L']))\n",
    "        else:\n",
    "            result.append(tuple([cap, sentence, i, 'D']))"
   ]
  },
  {
   "cell_type": "code",
   "execution_count": 37,
   "metadata": {},
   "outputs": [],
   "source": [
    "langs = 'LLLLLLLRLDLRLDL'"
   ]
  },
  {
   "cell_type": "code",
   "execution_count": 38,
   "metadata": {},
   "outputs": [
    {
     "data": {
      "text/plain": [
       "15"
      ]
     },
     "execution_count": 38,
     "metadata": {},
     "output_type": "execute_result"
    }
   ],
   "source": [
    "len(langs)"
   ]
  },
  {
   "cell_type": "code",
   "execution_count": 39,
   "metadata": {},
   "outputs": [],
   "source": [
    "k = 131 #sentences\n",
    "\n",
    "for i in range(0,15):\n",
    "    cursor.execute('INSERT INTO Sentences (id_text) VALUES (?)', tuple([2]))\n",
    "db.commit()"
   ]
  },
  {
   "cell_type": "code",
   "execution_count": 47,
   "metadata": {},
   "outputs": [],
   "source": [
    "result = []\n",
    "cap = ''\n",
    "sentence = ''\n",
    "for key, i in enumerate(text):\n",
    "    chunk = re.sub(' {2,}', ' ', i)\n",
    "    for j in chunk.split(' '):\n",
    "        if j.strip() != '':\n",
    "            norm = j.strip(punkt).lower()\n",
    "            if re.match('[0-9]+', norm): lang = 'N'\n",
    "            else: lang = langs[key]\n",
    "            cursor.execute('INSERT INTO Tokens (id_sent, token, normalized, lang) VALUES (?, ?, ?, ?)', \n",
    "                           tuple([key+k, j, norm, lang]))"
   ]
  },
  {
   "cell_type": "code",
   "execution_count": 48,
   "metadata": {},
   "outputs": [],
   "source": [
    "db.commit()"
   ]
  },
  {
   "cell_type": "code",
   "execution_count": 57,
   "metadata": {},
   "outputs": [],
   "source": [
    "with open('ahd-texts/texts/wessobrunner.txt') as f:\n",
    "    text = re.sub('<.*?>', '',f.read().replace(u'\\xa0', u' ').replace('\\n \\n', '\\n\\n').strip()).split('\\n\\n')"
   ]
  },
  {
   "cell_type": "code",
   "execution_count": 59,
   "metadata": {},
   "outputs": [
    {
     "data": {
      "text/plain": [
       "2"
      ]
     },
     "execution_count": 59,
     "metadata": {},
     "output_type": "execute_result"
    }
   ],
   "source": [
    "len(text)"
   ]
  },
  {
   "cell_type": "code",
   "execution_count": 60,
   "metadata": {},
   "outputs": [],
   "source": [
    "result = [text[0].replace('\\n', '\\n ').split(' '), text[1].replace('\\n', '\\n ').split(' ')]"
   ]
  },
  {
   "cell_type": "code",
   "execution_count": 66,
   "metadata": {},
   "outputs": [],
   "source": [
    "for i in result[0]:\n",
    "    norm = i.strip(punkt).lower()\n",
    "    cursor.execute('INSERT INTO Tokens (id_sent, token, normalized, lang) VALUES (146, ?, ?, ?)', \n",
    "                           tuple([i, norm, 'D']))\n",
    "for i in result[1]:\n",
    "    norm = i.strip(punkt).lower()\n",
    "    cursor.execute('INSERT INTO Tokens (id_sent, token, normalized, lang) VALUES (147, ?, ?, ?)', \n",
    "                           tuple([i, norm, 'D']))"
   ]
  },
  {
   "cell_type": "code",
   "execution_count": 67,
   "metadata": {},
   "outputs": [],
   "source": [
    "db.commit()"
   ]
  },
  {
   "cell_type": "code",
   "execution_count": 77,
   "metadata": {},
   "outputs": [],
   "source": [
    "with open('ahd-texts/texts/isidor.txt') as f:\n",
    "    text = re.sub('\\n+','\\n', re.sub('<.*?>', '',f.read().strip())).split('\\n')"
   ]
  },
  {
   "cell_type": "code",
   "execution_count": 79,
   "metadata": {},
   "outputs": [
    {
     "name": "stdout",
     "output_type": "stream",
     "text": [
      "Isidor von Sevilla, De Fide\n",
      "Cap. 5  \n",
      "  \n",
      "V. QUIA CHRISTUS FILIUS DEI DEUS HOMO FACTUS EST\n",
      "V. HEAR QUHIDIT, HUUEO GOT UUARD MAN CHIUUORDAN CHRIST GOTES SUNU \n",
      "Sentence: 1\n",
      "1. Hucusque misterium celestis natiuitatis in christo et significantiam diuine trinitatis ostendimus. Dehinc scribturę auctoritate eundem filium dei natum in carne monstremus. Manifestantes primum quia idem filius dei propter nostram salutem incarnatus et homo factus est. sic enim de eo praedicat esaias: »Paruolus«, inquit, »natus est nobis, filius datus est nobis, et factus est principatus eius super humerum eius, et uocabitur nomen eius admirabilis, consiliarius, deus fortis, pater futuri saeculi, princeps pacis. multiplicabitur imperium eius et pacis non erit finis«.\n",
      "1. Untazs hear nu aughidom uuir dhazs gheistliihhe chiruni dhera himiliscun chiburdi in christe endi dhera gotliihhun dhrinissa bauhnunga. Hinan frammert nu chichundemes mit hęrduome dhes heilegin chiscribes, dhazs ir selbo gotes sunu uuard in liihhe chiboran. Araughemes saar azs erist, huueo ir selbo gotes sunu dhurah unsera heilidha in fleisches liihhe man uuardh uuordan. So isaias umbi inan predigondo quhad: »Chindh uuirdit uns chiboran, sunu uuirdit uns chigheban, endi uuirdit sn hęrduom oba sinem sculdrom, endi uuirdit sn namo chinemnit uundarliih, chirado, got strengi, fater dhera zuohaldun uueraldi, frido herosto. chimanacfaldit uuirdhit sn chibot, endi sinera sipbea ni uuirdit endi«.\n",
      "Sentence: 2\n",
      "2. Paruolus enim christus, quia homo et natus nobis, non sibi. Quod enim homo factus est, nobis profecit, et ideo nobis natus est. filius autem datus est nobis, cuius nisi dei filius? Principatus eius super humerum eius, siue quia crucem propriis humeris ipse portauit, siue quia titulum regni super humeros et caput eius pilatus scribsit. \n",
      "2. Meinida dher forasago chiuuisso in dheru christes lyuzilun, huuanda ir uns uuard chiboran, nalles imu selbemu. Huuanda chiuuisso, dhazs ir man uuardh uuordan, unsih hilpit, endi bidhiu uuard ir uns chiboran. Sunu auur uuard uns chigheban, huues nibu gotes sunu? Sn hęrduom oba sinem sculdrom, ioh bidhiu huuanda ir in sn selbes sculdrom sn cruci druoc, ioh bidhiu huuanda dhen titulo sines riihhes oba sinem sculdrom endi sinemu haubide pilatus screiph.\n",
      "Sentence: 3\n",
      "3. Erubescant itaque impii et agnoscant uocari christum filium dei siue natum et per adsumptionem corporis paruolum factum. De quo dauid ait: »Minuisti eum paulo minus a deo«. »Quia dum in forma dei esset, non rapinam arbitratus est esse se ęqualem deo. Sed semetipsum exinaniuit formam serui accipiens«. Ad quem dum pater in psalmis de illa ęterna natiuitate diceret: »Ex utero ante luciferum genui te«, rursus futuram eius in carne natiuitatem ostendens subiecit dicens: »Et quasi de uulua orietur tibi ros aduliscentię tuę«. \n",
      "3. Oh schameen sih nu dhea aerlosun endi bichnaan sih zi nemnanne christ gotes sunu ioh chiboranan chilauben endi dhurah dhes liihhamin infancnissa lyuzilan uuordanan. Umbi inan quhad dauid: »Dhu chiminnerodes inan liuzelu minnerun dhanne got«. »Huuanda innan dhiu ir uuas in gotes faruuu, ni uuas imu dhuo einighan fal ardeilendi, dhazs ir gote uuas ebanchiliih Oh ir sih selbun aridalida, dhuo ir scalches chiliihnissa infenc«. Zi dhemu dhuo fater in psalmom umbi dhea sine euuigun chiburt quhad: »Fona hreue aer lucifere ih dhih chibar«. Dhuo saar dhar after araughida dhea zuohaldun sine chiburt in fleische, dhuo ir quhad: »Endi so sama so fona dhemu berandin hreue so arspringit dher dau dhinera iugundhi«.\n",
      "Sentence: 4  \n",
      "4. Hanc incorporationem filii dei et spiritus sanctus in psalmis ita praenuntiauit dicens: »Ad sion autem dicitur uir, et uir natus est in ea et ipse fundauit eam excelsus«. Ecce qui nascitur in sion et qui in ipsa ciuitate factus est humillimus, ipse est qui fundauit eam excelsus. et quia idem est dominus sequitur: »Dominus numerauit scribens populos, iste natus est ibi«. Quis iste uir? scilicet excelsus et dominus. Uir, quia homo factus est, excelsus, quia eum supra se cęli et angeli suscipiunt. Dominus, quia cuncte celi terręque creaturę illi deseruiunt.\n",
      "4. Dhesa infleiscnissa auh dhes gotes sunes heilac gheist in psalmo sus chundida, dhar ir quhad: »Zi sion quhad man, endi man uuirdit in ira chiboran, endi dher selbo chiuuorahta sia, ir hohisto«. See dher in sion uuard chiboran endi dher in dheru selbun burc uuard uuordan allero odhmuodigosto, dher selbo ist dher hohista, dher sia chiuuorahta. Endi auh huueo dher selbo druhtin ist, dhar ist after chiscriban: »Druhtin saghida dhazs chiscrip dhero folcho, dhese ist dhar chiboran«. Huuer ist dhanne dhese man, dher dhar scoldii chiboran uuerdan? chiuuisso ist izs dher hohisto endi druhtin. Man, bidhiu huuanda got uuard man chiuuordan. Hohisto, bidhiu huuanda inan himila endi anghila ubar sih infahant. Druhtin ist auh, bidhiu huuanda imu elliu himilo endi aerdha chiscafti sindun dheonondiu.\n",
      "Sentence: 5 \n",
      "5. Uerum quotiens inimici christi omnem hanc prophetiam natiuitatis eius audiunt, conclusi dum non habeant quod proponant, argumentantur dicentes necdum uenisse christum, de quo hec omnia ore prophetarum presag cecinerunt. Quęramus ergo tempus natiuitatis christi, utrum iam aduenerit an uenturus adhuc exspectetur. In danihelo igitur tempus aduentus eius certissime ostenditur et anni numerantur et manifesta signa eius pronuntiantur, et post aduentum eius et post mortem futura iudeorum excidia ibi certissime manifestantur. \n",
      "5. Uuaar ist, dhazs so ofto so dhea christes fiant dhesiu heilegun foraspel chihorant umbi christes chiburt, so bifangolode sindun simbles, dhazs sie ni eigun eouuihd, huuazs sie dhar uuidhar setzan. Oh sie dhanne zellando quhedant dhazs noh christ ni quhami, fona dhemu dhiz al in forasagono mundum dhea aldun aer langhe bifora sungun. Suohhemes auur uuir nu ziidh dhera christes chiburdi, huuedhar ir iu quhami odho uuir noh sculim sn quhemandes biidan. In dhemu heilegin daniheles chiscribe ist umbi dhea christes chumft ęrnustliihho araughit endi iaar arzelidiu, ioh offono sindun siniu zeihhan dhes bifora chichundidiu, ioh dhar ist auh offanliihhost chisaghet huueo dhero iudeo quhalm after christes chiburdi ioh after sineru martyru quheman scoldi. Dhar ist izs chiuuisso so zi ernusti araughit, \n",
      "Sentence: 6\n",
      "6. sic enim ait ad eum angelus: »Daniel, aduerte sermonem et intellege uisionem. LXX ebdomades adbreuiatę sunt super populum tuum et super urbem sanctam tuam, ut consummetur praeuaricatio et finem accipiat peccatum et deleatur iniquitas et adducatur iustitia sempiterna et impleatur uisio et prophetię et unguatur sanctus sanctorum«. Quę scilicet LXX ebdomadę, si a tempore danielis numerentur, procul dubio sanctus sanctorum dominus iesus christus olim uenisse cognoscitur. \n",
      "6. so dher angil gotes zi dhemu heilegin forasagin quhad: »Danihel, nim gaumun dhesses uuortes endi fyrstant dhiz chisiuni. Sibunzo uuehhono sindun chibreuido oba dhinem liudim endi oba dheru dhineru heilegun burc, dhazs chiendot uuerdhe dhiu aboha ubarhlaupnissi, endi dhazs sundono uuerdhe endi, endi unrehd uuerdhe ardilet endi euuic rehd biquhime endi chisiuni ioh forasagono spel uuerdhen arfullit endi dhero heilegeno heilego uuerdhe chisalbot«. Chiuuisso nu, ibu dhea sibunzo uuehhono fona daniheles zide uuerdhant chizelido, buuzssan einigan zuuiuun ist dhanne archennit, dhazs dher allero heilegono heilego druhtin nerrendeo christ iu ist langhe quhoman. \n",
      "Sentence: 7\n",
      "7. Ebdomada namque in sacris eloquiis septem annis terminatur. Dicente domino ad moysen: »Numerabis tibi VII ebdomadas annorum, id est septies septem, que simul faciunt annos XL et VIIII«. A tempore itaque danihelis prophete usque ad presens tempus plus quam CXL ebdomade adnumerantur. Ideoque iam aduenit christus, quem adnuntiabat sermo propheticus. \n",
      "7. Dhea uuehhun auur in heilegim quhidim arfullant sibun iaar. So ir selbo druhtin quhad zi moysi: »Zeli dhir sibun iaaro uuehhon. Dhazs meinit sibun stundom sibuniu, in dhem sindun zisamande chizelide eines min dhanne fimfzuc iaaro«. Fona daniheles ziide auur dhes forasagin untazs dhiu selbun christes chumfti ziidh mera sindun dhanne zehanzo endi feorzuc uuehhono chizelido, endi bidhiu iu chiuuisso quham christ, dhen dhes forasagin uuort bifora chundida. \n",
      "Sentence: 8\n",
      "8. Post LXX enim ebdomadas et natus et passus ostenditur christus et ciuitatem hierusalem in exterminatione fuisse et sacrificium unctionemque cessasse. Sic enim subiecit idem propheta: »Et occidetur christus, et ciuitatem et sacrificium dissipabit populus cum duce uenturo, et finis eius uastitas et post finem belli statuta desolatio«. Post passionem igitur christi uenit titus et debellauit iudeos et destruxit urbem et templum. Et cessauerunt libamina et sacrificia, que ultra illuc celebrare non potuerunt. Ut impleretur quod fuerat ante a propheta predictum. \n",
      "8. After dhem sibunzo uuehhom ist hear offono araughit ziuuare christan iu chiboranan ioh chimartorodan, endi dhazs dhiu burc hierusalem aruuostit uuardh endi ghelstar ioh salbunga bilunnan uurdun. So dhar after auh chiuuisso quhidit dher selbo forasago: »Endi arslagan uuirdit christ, endi dhea burc ioh ghelstar fyrodhant liudi mit dhemu zuohaldin herizohin. Endi dhes endi uuirdhit odhin. Endi after dhes chifehtes ende uuirdhit dhar chisetzit idalnissa«. Dhiz uuard al so chidaan ziuuare, dhuo titus after dheru christes passione quham endi nam sigu in dhem iudeoliudim endi zistrudida dhea burc ioh dhazs gotes tempil. Endi dhuo bilunnun dhiu blostar iro ghelstro, dhiu sie eomaer furi dhazs in iro samnunghe dhar haldan ni mahtun. Dhazs arfullit uurdi so ęr bifora uuardh chichundit dhurah dhen forasagun. \n",
      "Sentence: 9\n",
      "9. Sed duritia cordis iudaici quia ipsi christum interemerunt, inde eum adhuc uenisse non credunt. Probauimus dominum nostrum iesum christum secundum carnem iam natum fuisse. Sed adicit incredulus: cur in carne uenit? Audi ergo causam. Deus cum hominem fecisset summa beatitudine praeditum et diuine imaginis decore honoratum, posuit eum in paradiso, ut esset deo subiectus, ceteris creaturis praelatus. \n",
      "9. Oh huuanda sie mit dhes iudeischin muotes hartnissu christan arsluogun, bidhiu ni uuellent sie inan noh quhomenan chilauban. Chiuuisso chioffanodom uuir nu hear dhazs unser druhtin nerrendeo christ after dheru fleiscliihhun chiburdi iu uuardh chiboran. Oh dher unchilaubo fraghet noh endi quhidit: bihuuiu uuard christ in liihhi chiboran? Chihori nu sahha bihuuiu. Got so ir erist mannan chifrumida mit dhem hohistom salidhom odagan endi mit scuonin dhera gotliihhun chiliihnissa chieredan, dhuo setzida inan in sn paradisi, dhazs ir chihoric uuari gote endi furiro uuari andrem gotes chiscaftim. \n",
      "Sentence: 10\n",
      "10. Ille autem rebellis effectus contempta diuinitate interdictum uiolauit praeceptum. Quem proiectum ob superbiam deus non occidit, sed exulem paradiso fecit exspectans, ut per penitentiam reparari possit ad ueniam. Et cum ille non reuocaretur ad uiam uirtutis: Dedit legem per moysen, ut uel per ipsam reuerteretur ad amorem dei et operationem iustitię. Sed cum nec hanc quidem contumax et incredulus custodiret: Uenit tandem filius dei et corpus humanum adsumpsit, ut dum uideretur crederetur Omissisque mundus dęmonum simulacris reconciliaretur gratię conditoris. \n",
      "10. Oh ir uuardh dhanne uuidharbruhtic, mit unuuerdnissu gotes chiunhreinida dhazs undarquhedene chibot. Inan dhuo dhanan uzs dhurah geilin aruuorpanan ni arsluoc got, oh uurehhan chifrumida uzs fona paradises bliidhnissu; beit noh dhuo dher aluualdendeo dhazs ir sih auur dhurah hreuun mahti chigarauuan zi chinisti. Endi so ir auur dhuo ni uuas huuerfandi zi dhes ęrrin meghines uueghe: Gab dhuo got moysi euua, dhazs ir dhoh in dheru chihuurfi zi gotes minniu endi zi rehtnissa uuerchum. Oh so ir dhuo ubarmuodic endi unchilaubendi noh dhea selbun euua ni uuereda: Dhuo azs iungist bidhiu quham gotes sunu endi antfenc mannes liihhamun, dhazs dhanne sie inan selbun chisahin, dhoh so chilaubidin. Endi dhazs mittingart firleizssi diubilo drugidha endi auur aruuegodi zi sines scheffidhes huldin. \n",
      "Sentence: 11\n",
      "11. Hec est causa natiuitatis christi, quem iudęi etsi patiantur natum scandalizantur tamen crucifixum et mortuum. Non intellegentes quia sicut propter redemptionem mundi illum dicit nasci ita et pati oportuit. Cuius passionem et mortem in suo loco scripturarum testimoniis adprobabimus. Nunc uero sequamur debitum ordinem, et cuius demonstrata est post gloriam deitatis humana natiuitas, demonstretur et genus et patria:\n",
      "11. Dhiz ist dhiu sahha christes chiburdi, dhen iudeoliudi, dhoh sie inan chiboranan chilauben, lastront inan dhoh dhiu huuedheru in cruci chislaganan endi dodan. Ni sindun firstandande dhazs so selp so ir dhurah uueraldi aloosnin uuardh chiboran chisaghet, so sama auh uuard chiquhedan dhazs ir bi mittingardes nara chirista chimartirot uuerdhan. Dhes martyrunga endi dodh uuir findemes mit urchundin dhes heilegin chiscribes, dhanne uuir in andreidim dhurahfaremes dhazs hear aer dhiu zi sagenne ist. Nu auur folghemes dhera bigunnenun redha. Endi dhes selben christes, dhes uuir iu sinera manniscnissa chiburt after dhera gotnissa guotliihhin chichundidom, chichundemes auh nu dhes ędhili endi odhil.\n"
     ]
    }
   ],
   "source": [
    "for i in text:\n",
    "    print(i)"
   ]
  },
  {
   "cell_type": "code",
   "execution_count": null,
   "metadata": {},
   "outputs": [],
   "source": [
    "for i in text[:]"
   ]
  },
  {
   "cell_type": "code",
   "execution_count": 83,
   "metadata": {},
   "outputs": [],
   "source": [
    "result = []\n",
    "result.append (('Title','\\n'.join(text[:5]), 'L'))"
   ]
  },
  {
   "cell_type": "code",
   "execution_count": 89,
   "metadata": {},
   "outputs": [],
   "source": [
    "sentence = ''\n",
    "result = []\n",
    "result.append (('Title','','\\n'.join(text[:5]), 'L'))\n",
    "for key, i in enumerate(text[5:]):\n",
    "    if i.startswith('Sentence'):\n",
    "        sentence = i\n",
    "    else:\n",
    "        if key % 3 == 1:\n",
    "            result.append(tuple(['', sentence, i, 'L']))\n",
    "        else:\n",
    "            result.append(tuple(['', sentence, i, 'D']))"
   ]
  },
  {
   "cell_type": "code",
   "execution_count": 90,
   "metadata": {},
   "outputs": [
    {
     "data": {
      "text/plain": [
       "[('Title',\n",
       "  '',\n",
       "  'Isidor von Sevilla, De Fide\\nCap. 5  \\n  \\nV. QUIA CHRISTUS FILIUS DEI DEUS HOMO FACTUS EST\\nV. HEAR QUHIDIT, HUUEO GOT UUARD MAN CHIUUORDAN CHRIST GOTES SUNU ',\n",
       "  'L'),\n",
       " ('',\n",
       "  'Sentence: 1',\n",
       "  '1. Hucusque misterium celestis natiuitatis in christo et significantiam diuine trinitatis ostendimus. Dehinc scribturę auctoritate eundem filium dei natum in carne monstremus. Manifestantes primum quia idem filius dei propter nostram salutem incarnatus et homo factus est. sic enim de eo praedicat esaias: »Paruolus«, inquit, »natus est nobis, filius datus est nobis, et factus est principatus eius super humerum eius, et uocabitur nomen eius admirabilis, consiliarius, deus fortis, pater futuri saeculi, princeps pacis. multiplicabitur imperium eius et pacis non erit finis«.',\n",
       "  'L'),\n",
       " ('',\n",
       "  'Sentence: 1',\n",
       "  '1. Untazs hear nu aughidom uuir dhazs gheistliihhe chiruni dhera himiliscun chiburdi in christe endi dhera gotliihhun dhrinissa bauhnunga. Hinan frammert nu chichundemes mit hęrduome dhes heilegin chiscribes, dhazs ir selbo gotes sunu uuard in liihhe chiboran. Araughemes saar azs erist, huueo ir selbo gotes sunu dhurah unsera heilidha in fleisches liihhe man uuardh uuordan. So isaias umbi inan predigondo quhad: »Chindh uuirdit uns chiboran, sunu uuirdit uns chigheban, endi uuirdit sn hęrduom oba sinem sculdrom, endi uuirdit sn namo chinemnit uundarliih, chirado, got strengi, fater dhera zuohaldun uueraldi, frido herosto. chimanacfaldit uuirdhit sn chibot, endi sinera sipbea ni uuirdit endi«.',\n",
       "  'D'),\n",
       " ('',\n",
       "  'Sentence: 2',\n",
       "  '2. Paruolus enim christus, quia homo et natus nobis, non sibi. Quod enim homo factus est, nobis profecit, et ideo nobis natus est. filius autem datus est nobis, cuius nisi dei filius? Principatus eius super humerum eius, siue quia crucem propriis humeris ipse portauit, siue quia titulum regni super humeros et caput eius pilatus scribsit. ',\n",
       "  'L'),\n",
       " ('',\n",
       "  'Sentence: 2',\n",
       "  '2. Meinida dher forasago chiuuisso in dheru christes lyuzilun, huuanda ir uns uuard chiboran, nalles imu selbemu. Huuanda chiuuisso, dhazs ir man uuardh uuordan, unsih hilpit, endi bidhiu uuard ir uns chiboran. Sunu auur uuard uns chigheban, huues nibu gotes sunu? Sn hęrduom oba sinem sculdrom, ioh bidhiu huuanda ir in sn selbes sculdrom sn cruci druoc, ioh bidhiu huuanda dhen titulo sines riihhes oba sinem sculdrom endi sinemu haubide pilatus screiph.',\n",
       "  'D'),\n",
       " ('',\n",
       "  'Sentence: 3',\n",
       "  '3. Erubescant itaque impii et agnoscant uocari christum filium dei siue natum et per adsumptionem corporis paruolum factum. De quo dauid ait: »Minuisti eum paulo minus a deo«. »Quia dum in forma dei esset, non rapinam arbitratus est esse se ęqualem deo. Sed semetipsum exinaniuit formam serui accipiens«. Ad quem dum pater in psalmis de illa ęterna natiuitate diceret: »Ex utero ante luciferum genui te«, rursus futuram eius in carne natiuitatem ostendens subiecit dicens: »Et quasi de uulua orietur tibi ros aduliscentię tuę«. ',\n",
       "  'L'),\n",
       " ('',\n",
       "  'Sentence: 3',\n",
       "  '3. Oh schameen sih nu dhea aerlosun endi bichnaan sih zi nemnanne christ gotes sunu ioh chiboranan chilauben endi dhurah dhes liihhamin infancnissa lyuzilan uuordanan. Umbi inan quhad dauid: »Dhu chiminnerodes inan liuzelu minnerun dhanne got«. »Huuanda innan dhiu ir uuas in gotes faruuu, ni uuas imu dhuo einighan fal ardeilendi, dhazs ir gote uuas ebanchiliih Oh ir sih selbun aridalida, dhuo ir scalches chiliihnissa infenc«. Zi dhemu dhuo fater in psalmom umbi dhea sine euuigun chiburt quhad: »Fona hreue aer lucifere ih dhih chibar«. Dhuo saar dhar after araughida dhea zuohaldun sine chiburt in fleische, dhuo ir quhad: »Endi so sama so fona dhemu berandin hreue so arspringit dher dau dhinera iugundhi«.',\n",
       "  'D'),\n",
       " ('',\n",
       "  'Sentence: 4  ',\n",
       "  '4. Hanc incorporationem filii dei et spiritus sanctus in psalmis ita praenuntiauit dicens: »Ad sion autem dicitur uir, et uir natus est in ea et ipse fundauit eam excelsus«. Ecce qui nascitur in sion et qui in ipsa ciuitate factus est humillimus, ipse est qui fundauit eam excelsus. et quia idem est dominus sequitur: »Dominus numerauit scribens populos, iste natus est ibi«. Quis iste uir? scilicet excelsus et dominus. Uir, quia homo factus est, excelsus, quia eum supra se cęli et angeli suscipiunt. Dominus, quia cuncte celi terręque creaturę illi deseruiunt.',\n",
       "  'L'),\n",
       " ('',\n",
       "  'Sentence: 4  ',\n",
       "  '4. Dhesa infleiscnissa auh dhes gotes sunes heilac gheist in psalmo sus chundida, dhar ir quhad: »Zi sion quhad man, endi man uuirdit in ira chiboran, endi dher selbo chiuuorahta sia, ir hohisto«. See dher in sion uuard chiboran endi dher in dheru selbun burc uuard uuordan allero odhmuodigosto, dher selbo ist dher hohista, dher sia chiuuorahta. Endi auh huueo dher selbo druhtin ist, dhar ist after chiscriban: »Druhtin saghida dhazs chiscrip dhero folcho, dhese ist dhar chiboran«. Huuer ist dhanne dhese man, dher dhar scoldii chiboran uuerdan? chiuuisso ist izs dher hohisto endi druhtin. Man, bidhiu huuanda got uuard man chiuuordan. Hohisto, bidhiu huuanda inan himila endi anghila ubar sih infahant. Druhtin ist auh, bidhiu huuanda imu elliu himilo endi aerdha chiscafti sindun dheonondiu.',\n",
       "  'D'),\n",
       " ('',\n",
       "  'Sentence: 5 ',\n",
       "  '5. Uerum quotiens inimici christi omnem hanc prophetiam natiuitatis eius audiunt, conclusi dum non habeant quod proponant, argumentantur dicentes necdum uenisse christum, de quo hec omnia ore prophetarum presag cecinerunt. Quęramus ergo tempus natiuitatis christi, utrum iam aduenerit an uenturus adhuc exspectetur. In danihelo igitur tempus aduentus eius certissime ostenditur et anni numerantur et manifesta signa eius pronuntiantur, et post aduentum eius et post mortem futura iudeorum excidia ibi certissime manifestantur. ',\n",
       "  'L'),\n",
       " ('',\n",
       "  'Sentence: 5 ',\n",
       "  '5. Uuaar ist, dhazs so ofto so dhea christes fiant dhesiu heilegun foraspel chihorant umbi christes chiburt, so bifangolode sindun simbles, dhazs sie ni eigun eouuihd, huuazs sie dhar uuidhar setzan. Oh sie dhanne zellando quhedant dhazs noh christ ni quhami, fona dhemu dhiz al in forasagono mundum dhea aldun aer langhe bifora sungun. Suohhemes auur uuir nu ziidh dhera christes chiburdi, huuedhar ir iu quhami odho uuir noh sculim sn quhemandes biidan. In dhemu heilegin daniheles chiscribe ist umbi dhea christes chumft ęrnustliihho araughit endi iaar arzelidiu, ioh offono sindun siniu zeihhan dhes bifora chichundidiu, ioh dhar ist auh offanliihhost chisaghet huueo dhero iudeo quhalm after christes chiburdi ioh after sineru martyru quheman scoldi. Dhar ist izs chiuuisso so zi ernusti araughit, ',\n",
       "  'D'),\n",
       " ('',\n",
       "  'Sentence: 6',\n",
       "  '6. sic enim ait ad eum angelus: »Daniel, aduerte sermonem et intellege uisionem. LXX ebdomades adbreuiatę sunt super populum tuum et super urbem sanctam tuam, ut consummetur praeuaricatio et finem accipiat peccatum et deleatur iniquitas et adducatur iustitia sempiterna et impleatur uisio et prophetię et unguatur sanctus sanctorum«. Quę scilicet LXX ebdomadę, si a tempore danielis numerentur, procul dubio sanctus sanctorum dominus iesus christus olim uenisse cognoscitur. ',\n",
       "  'L'),\n",
       " ('',\n",
       "  'Sentence: 6',\n",
       "  '6. so dher angil gotes zi dhemu heilegin forasagin quhad: »Danihel, nim gaumun dhesses uuortes endi fyrstant dhiz chisiuni. Sibunzo uuehhono sindun chibreuido oba dhinem liudim endi oba dheru dhineru heilegun burc, dhazs chiendot uuerdhe dhiu aboha ubarhlaupnissi, endi dhazs sundono uuerdhe endi, endi unrehd uuerdhe ardilet endi euuic rehd biquhime endi chisiuni ioh forasagono spel uuerdhen arfullit endi dhero heilegeno heilego uuerdhe chisalbot«. Chiuuisso nu, ibu dhea sibunzo uuehhono fona daniheles zide uuerdhant chizelido, buuzssan einigan zuuiuun ist dhanne archennit, dhazs dher allero heilegono heilego druhtin nerrendeo christ iu ist langhe quhoman. ',\n",
       "  'D'),\n",
       " ('',\n",
       "  'Sentence: 7',\n",
       "  '7. Ebdomada namque in sacris eloquiis septem annis terminatur. Dicente domino ad moysen: »Numerabis tibi VII ebdomadas annorum, id est septies septem, que simul faciunt annos XL et VIIII«. A tempore itaque danihelis prophete usque ad presens tempus plus quam CXL ebdomade adnumerantur. Ideoque iam aduenit christus, quem adnuntiabat sermo propheticus. ',\n",
       "  'L'),\n",
       " ('',\n",
       "  'Sentence: 7',\n",
       "  '7. Dhea uuehhun auur in heilegim quhidim arfullant sibun iaar. So ir selbo druhtin quhad zi moysi: »Zeli dhir sibun iaaro uuehhon. Dhazs meinit sibun stundom sibuniu, in dhem sindun zisamande chizelide eines min dhanne fimfzuc iaaro«. Fona daniheles ziide auur dhes forasagin untazs dhiu selbun christes chumfti ziidh mera sindun dhanne zehanzo endi feorzuc uuehhono chizelido, endi bidhiu iu chiuuisso quham christ, dhen dhes forasagin uuort bifora chundida. ',\n",
       "  'D'),\n",
       " ('',\n",
       "  'Sentence: 8',\n",
       "  '8. Post LXX enim ebdomadas et natus et passus ostenditur christus et ciuitatem hierusalem in exterminatione fuisse et sacrificium unctionemque cessasse. Sic enim subiecit idem propheta: »Et occidetur christus, et ciuitatem et sacrificium dissipabit populus cum duce uenturo, et finis eius uastitas et post finem belli statuta desolatio«. Post passionem igitur christi uenit titus et debellauit iudeos et destruxit urbem et templum. Et cessauerunt libamina et sacrificia, que ultra illuc celebrare non potuerunt. Ut impleretur quod fuerat ante a propheta predictum. ',\n",
       "  'L'),\n",
       " ('',\n",
       "  'Sentence: 8',\n",
       "  '8. After dhem sibunzo uuehhom ist hear offono araughit ziuuare christan iu chiboranan ioh chimartorodan, endi dhazs dhiu burc hierusalem aruuostit uuardh endi ghelstar ioh salbunga bilunnan uurdun. So dhar after auh chiuuisso quhidit dher selbo forasago: »Endi arslagan uuirdit christ, endi dhea burc ioh ghelstar fyrodhant liudi mit dhemu zuohaldin herizohin. Endi dhes endi uuirdhit odhin. Endi after dhes chifehtes ende uuirdhit dhar chisetzit idalnissa«. Dhiz uuard al so chidaan ziuuare, dhuo titus after dheru christes passione quham endi nam sigu in dhem iudeoliudim endi zistrudida dhea burc ioh dhazs gotes tempil. Endi dhuo bilunnun dhiu blostar iro ghelstro, dhiu sie eomaer furi dhazs in iro samnunghe dhar haldan ni mahtun. Dhazs arfullit uurdi so ęr bifora uuardh chichundit dhurah dhen forasagun. ',\n",
       "  'D'),\n",
       " ('',\n",
       "  'Sentence: 9',\n",
       "  '9. Sed duritia cordis iudaici quia ipsi christum interemerunt, inde eum adhuc uenisse non credunt. Probauimus dominum nostrum iesum christum secundum carnem iam natum fuisse. Sed adicit incredulus: cur in carne uenit? Audi ergo causam. Deus cum hominem fecisset summa beatitudine praeditum et diuine imaginis decore honoratum, posuit eum in paradiso, ut esset deo subiectus, ceteris creaturis praelatus. ',\n",
       "  'L'),\n",
       " ('',\n",
       "  'Sentence: 9',\n",
       "  '9. Oh huuanda sie mit dhes iudeischin muotes hartnissu christan arsluogun, bidhiu ni uuellent sie inan noh quhomenan chilauban. Chiuuisso chioffanodom uuir nu hear dhazs unser druhtin nerrendeo christ after dheru fleiscliihhun chiburdi iu uuardh chiboran. Oh dher unchilaubo fraghet noh endi quhidit: bihuuiu uuard christ in liihhi chiboran? Chihori nu sahha bihuuiu. Got so ir erist mannan chifrumida mit dhem hohistom salidhom odagan endi mit scuonin dhera gotliihhun chiliihnissa chieredan, dhuo setzida inan in sn paradisi, dhazs ir chihoric uuari gote endi furiro uuari andrem gotes chiscaftim. ',\n",
       "  'D'),\n",
       " ('',\n",
       "  'Sentence: 10',\n",
       "  '10. Ille autem rebellis effectus contempta diuinitate interdictum uiolauit praeceptum. Quem proiectum ob superbiam deus non occidit, sed exulem paradiso fecit exspectans, ut per penitentiam reparari possit ad ueniam. Et cum ille non reuocaretur ad uiam uirtutis: Dedit legem per moysen, ut uel per ipsam reuerteretur ad amorem dei et operationem iustitię. Sed cum nec hanc quidem contumax et incredulus custodiret: Uenit tandem filius dei et corpus humanum adsumpsit, ut dum uideretur crederetur Omissisque mundus dęmonum simulacris reconciliaretur gratię conditoris. ',\n",
       "  'L'),\n",
       " ('',\n",
       "  'Sentence: 10',\n",
       "  '10. Oh ir uuardh dhanne uuidharbruhtic, mit unuuerdnissu gotes chiunhreinida dhazs undarquhedene chibot. Inan dhuo dhanan uzs dhurah geilin aruuorpanan ni arsluoc got, oh uurehhan chifrumida uzs fona paradises bliidhnissu; beit noh dhuo dher aluualdendeo dhazs ir sih auur dhurah hreuun mahti chigarauuan zi chinisti. Endi so ir auur dhuo ni uuas huuerfandi zi dhes ęrrin meghines uueghe: Gab dhuo got moysi euua, dhazs ir dhoh in dheru chihuurfi zi gotes minniu endi zi rehtnissa uuerchum. Oh so ir dhuo ubarmuodic endi unchilaubendi noh dhea selbun euua ni uuereda: Dhuo azs iungist bidhiu quham gotes sunu endi antfenc mannes liihhamun, dhazs dhanne sie inan selbun chisahin, dhoh so chilaubidin. Endi dhazs mittingart firleizssi diubilo drugidha endi auur aruuegodi zi sines scheffidhes huldin. ',\n",
       "  'D'),\n",
       " ('',\n",
       "  'Sentence: 11',\n",
       "  '11. Hec est causa natiuitatis christi, quem iudęi etsi patiantur natum scandalizantur tamen crucifixum et mortuum. Non intellegentes quia sicut propter redemptionem mundi illum dicit nasci ita et pati oportuit. Cuius passionem et mortem in suo loco scripturarum testimoniis adprobabimus. Nunc uero sequamur debitum ordinem, et cuius demonstrata est post gloriam deitatis humana natiuitas, demonstretur et genus et patria:',\n",
       "  'L'),\n",
       " ('',\n",
       "  'Sentence: 11',\n",
       "  '11. Dhiz ist dhiu sahha christes chiburdi, dhen iudeoliudi, dhoh sie inan chiboranan chilauben, lastront inan dhoh dhiu huuedheru in cruci chislaganan endi dodan. Ni sindun firstandande dhazs so selp so ir dhurah uueraldi aloosnin uuardh chiboran chisaghet, so sama auh uuard chiquhedan dhazs ir bi mittingardes nara chirista chimartirot uuerdhan. Dhes martyrunga endi dodh uuir findemes mit urchundin dhes heilegin chiscribes, dhanne uuir in andreidim dhurahfaremes dhazs hear aer dhiu zi sagenne ist. Nu auur folghemes dhera bigunnenun redha. Endi dhes selben christes, dhes uuir iu sinera manniscnissa chiburt after dhera gotnissa guotliihhin chichundidom, chichundemes auh nu dhes ędhili endi odhil.',\n",
       "  'D')]"
      ]
     },
     "execution_count": 90,
     "metadata": {},
     "output_type": "execute_result"
    }
   ],
   "source": [
    "result"
   ]
  },
  {
   "cell_type": "code",
   "execution_count": 91,
   "metadata": {},
   "outputs": [],
   "source": [
    "k = 148\n",
    "for i in result:\n",
    "    cursor.execute('INSERT INTO Sentences (id_text, paragraph, sub) VALUES (?, ?, ?)', tuple([4, i[0], i[1]]))\n",
    "db.commit()"
   ]
  },
  {
   "cell_type": "code",
   "execution_count": 92,
   "metadata": {},
   "outputs": [],
   "source": [
    "for key, value in enumerate(result):\n",
    "    for i in value[2].split():\n",
    "        norm = i.strip(punkt).lower()\n",
    "        if re.match('[0-9]+', norm): lang = 'N'\n",
    "        else: lang = value[3]\n",
    "        cursor.execute('INSERT INTO Tokens (id_sent, token, normalized, lang) VALUES (?, ?, ?, ?)', \n",
    "                       tuple([key+k, i, norm, lang]))"
   ]
  },
  {
   "cell_type": "code",
   "execution_count": 93,
   "metadata": {},
   "outputs": [],
   "source": [
    "db.commit()"
   ]
  },
  {
   "cell_type": "code",
   "execution_count": null,
   "metadata": {},
   "outputs": [],
   "source": []
  },
  {
   "cell_type": "code",
   "execution_count": 105,
   "metadata": {},
   "outputs": [],
   "source": [
    "with open('ahd-texts/texts/merseburger1.txt') as f:\n",
    "    text = '\\n '.join(re.sub('<.*?>', '',f.read().strip()).split('\\n'))"
   ]
  },
  {
   "cell_type": "code",
   "execution_count": 106,
   "metadata": {},
   "outputs": [
    {
     "data": {
      "text/plain": [
       "['Eiris',\n",
       " 'sazun',\n",
       " 'idisi,',\n",
       " 'sazun',\n",
       " 'hera',\n",
       " 'duoder.\\n',\n",
       " 'suma',\n",
       " 'hapt',\n",
       " 'heptidun,',\n",
       " 'suma',\n",
       " 'heri',\n",
       " 'lezidun,\\n',\n",
       " 'suma',\n",
       " 'clubodun',\n",
       " 'umbi',\n",
       " 'cuoniouuidi:\\n',\n",
       " 'insprinc',\n",
       " 'haptbandum,',\n",
       " 'invar',\n",
       " 'vigandun!']"
      ]
     },
     "execution_count": 106,
     "metadata": {},
     "output_type": "execute_result"
    }
   ],
   "source": [
    "text.split(' ')"
   ]
  },
  {
   "cell_type": "code",
   "execution_count": 108,
   "metadata": {},
   "outputs": [],
   "source": [
    "    for i in text.split():\n",
    "        norm = i.strip(punkt).lower()\n",
    "        cursor.execute('INSERT INTO Tokens (id_sent, token, normalized, lang) VALUES (171, ?, ?, ?)', \n",
    "                       tuple([i, norm, 'D']))"
   ]
  },
  {
   "cell_type": "code",
   "execution_count": 109,
   "metadata": {},
   "outputs": [],
   "source": [
    "db.commit()"
   ]
  },
  {
   "cell_type": "code",
   "execution_count": null,
   "metadata": {},
   "outputs": [],
   "source": []
  },
  {
   "cell_type": "code",
   "execution_count": 110,
   "metadata": {},
   "outputs": [],
   "source": [
    "with open('ahd-texts/texts/merseburger2.txt') as f:\n",
    "    text = '\\n '.join(re.sub('<.*?>', '',f.read().strip()).split('\\n'))"
   ]
  },
  {
   "cell_type": "code",
   "execution_count": 111,
   "metadata": {},
   "outputs": [
    {
     "data": {
      "text/plain": [
       "'Phol ende Uuôdan vuorun zi holza.\\n Dû uuart demo Balderes volon sîn vuoz birenkit.\\n thû biguol en Sinthgunt, Sunna era suister,\\n thû biguol en Frîia, Uolla era suister;\\n thû biguol en Uuôdan sô hê uuola conda:\\n sôse bênrenkî, sôse bluotrenkî,\\n sôse lidirenkî:\\n bên zi bêna, bluot zi bluoda,\\n lid zi geliden, sôse gelimida sin!'"
      ]
     },
     "execution_count": 111,
     "metadata": {},
     "output_type": "execute_result"
    }
   ],
   "source": [
    "text"
   ]
  },
  {
   "cell_type": "code",
   "execution_count": 112,
   "metadata": {},
   "outputs": [],
   "source": [
    "    for i in text.split():\n",
    "        norm = i.strip(punkt).lower()\n",
    "        cursor.execute('INSERT INTO Tokens (id_sent, token, normalized, lang) VALUES (172, ?, ?, ?)', \n",
    "                       tuple([i, norm, 'D']))\n",
    "    db.commit()"
   ]
  },
  {
   "cell_type": "code",
   "execution_count": null,
   "metadata": {},
   "outputs": [],
   "source": []
  },
  {
   "cell_type": "code",
   "execution_count": 132,
   "metadata": {},
   "outputs": [],
   "source": [
    "numbers = list(range(1, 75))\n",
    "numbers.append('74a')\n",
    "numbers.extend(list(range(75, 100)))\n",
    "numbers.extend(['99а',100, 101, 102, 103])"
   ]
  },
  {
   "cell_type": "code",
   "execution_count": 133,
   "metadata": {},
   "outputs": [
    {
     "data": {
      "text/plain": [
       "105"
      ]
     },
     "execution_count": 133,
     "metadata": {},
     "output_type": "execute_result"
    }
   ],
   "source": [
    "len(numbers)"
   ]
  },
  {
   "cell_type": "code",
   "execution_count": 134,
   "metadata": {},
   "outputs": [],
   "source": [
    "with open('ahd-texts/texts/muspilli.txt') as f:\n",
    "    text = f.read().split('\\n')"
   ]
  },
  {
   "cell_type": "code",
   "execution_count": 138,
   "metadata": {},
   "outputs": [],
   "source": [
    "for i in numbers:\n",
    "    cursor.execute('INSERT INTO Sentences (id_text, sub) VALUES (?, ?)', tuple([7, i]))\n",
    "db.commit()"
   ]
  },
  {
   "cell_type": "code",
   "execution_count": 139,
   "metadata": {},
   "outputs": [],
   "source": [
    "k = 174"
   ]
  },
  {
   "cell_type": "code",
   "execution_count": 144,
   "metadata": {},
   "outputs": [],
   "source": [
    "for key, value in enumerate(text[:-1]):\n",
    "    v = re.sub(' +', ' ', value)\n",
    "    for i in v.split(' '):\n",
    "        norm = i.strip(punkt).lower()\n",
    "        cursor.execute('INSERT INTO Tokens (id_sent, token, normalized, lang) VALUES (?, ?, ?, ?)', \n",
    "                        tuple([174+key, i, norm, 'D']))"
   ]
  },
  {
   "cell_type": "code",
   "execution_count": 145,
   "metadata": {},
   "outputs": [],
   "source": [
    "db.commit()"
   ]
  },
  {
   "cell_type": "code",
   "execution_count": 125,
   "metadata": {},
   "outputs": [
    {
     "data": {
      "text/plain": [
       "106"
      ]
     },
     "execution_count": 125,
     "metadata": {},
     "output_type": "execute_result"
    }
   ],
   "source": [
    "len(text)"
   ]
  },
  {
   "cell_type": "code",
   "execution_count": null,
   "metadata": {},
   "outputs": [],
   "source": []
  },
  {
   "cell_type": "code",
   "execution_count": 152,
   "metadata": {},
   "outputs": [],
   "source": [
    "#hildebrandslied\n",
    "with open('ahd-texts/texts/hildebrandslied.txt') as f:\n",
    "    text = f.read().strip().split('\\n')"
   ]
  },
  {
   "cell_type": "code",
   "execution_count": 155,
   "metadata": {},
   "outputs": [],
   "source": [
    "for key, value in enumerate(text):\n",
    "    cursor.execute('INSERT INTO Sentences (id_text, sub) VALUES (?, ?)', tuple([8, key+1]))\n",
    "db.commit()"
   ]
  },
  {
   "cell_type": "code",
   "execution_count": 156,
   "metadata": {},
   "outputs": [],
   "source": [
    "for key, value in enumerate(text):\n",
    "    v = re.sub(' +', ' ', value)\n",
    "    for i in v.split(' '):\n",
    "        norm = i.strip(punkt).lower()\n",
    "        cursor.execute('INSERT INTO Tokens (id_sent, token, normalized, lang) VALUES (?, ?, ?, ?)', \n",
    "                        tuple([347+key, i, norm, 'D']))"
   ]
  },
  {
   "cell_type": "code",
   "execution_count": 157,
   "metadata": {},
   "outputs": [],
   "source": [
    "db.commit()"
   ]
  },
  {
   "cell_type": "code",
   "execution_count": null,
   "metadata": {},
   "outputs": [],
   "source": []
  },
  {
   "cell_type": "code",
   "execution_count": 171,
   "metadata": {},
   "outputs": [],
   "source": [
    "#glossen\n",
    "with open('ahd-texts/texts/glossen.txt') as f:\n",
    "    text = f.read().strip().split('\\n\\n')"
   ]
  },
  {
   "cell_type": "code",
   "execution_count": 172,
   "metadata": {},
   "outputs": [],
   "source": [
    "for key, value in enumerate(text):\n",
    "    text[key] = value.replace('\\n','\\n ')"
   ]
  },
  {
   "cell_type": "code",
   "execution_count": 173,
   "metadata": {},
   "outputs": [
    {
     "data": {
      "text/plain": [
       "['Skir min fahs.\\n Skir minan hals.\\n Skir minan part.',\n",
       " 'Sage mir uueo namun habêt desêr man.\\n Uuanna pist dû ?\\n Uuanna quimis ?\\n Fona uuelîheru lantskeffi sindôs ?\\n Foor, fôrun, farant.\\n Quâmut ?\\n Quâmum.\\n Uuâr uuârut ?\\n Uuaz sôhtut ?\\n Sôhtum daz uns durft uuas.\\n Uuaz uuârun durfti ?\\n Manago.\\n Durft ist uns dîna huldî za hapênne.\\n Firnimis ?\\n Ni ih firnimu.\\n Ih firnimu.\\n Firnâmut ?\\n Firnemamês.\\n Caputî ?\\n Capaot.\\n Ih auar capiutu.\\n Dû capiut anti ih tôm.\\n Uuanta ni tôis ?\\n Sô mac uuesan.',\n",
       " 'Spâher man. sapiens homo.\\n toler. stultus\\n Tole sint Uualhâ, spâhe sint Peigira;\\n luzîc ist spâhi in Uualhum,\\n mêra hapênt tolaheitî denne spâhi.\\n Stulti sunt Romani, sapienti sunt Paioari,\\n modica est sapientia in Romana,\\n plus habent stultitia quam sapientia.',\n",
       " 'Hogazi cogita\\n pî dih selpan de temet ipsum.\\n Ih hogazta ego cogitavi\\n simplun semper\\n fona mir selpemo de me ipsum.']"
      ]
     },
     "execution_count": 173,
     "metadata": {},
     "output_type": "execute_result"
    }
   ],
   "source": [
    "text[1::2]"
   ]
  },
  {
   "cell_type": "code",
   "execution_count": 165,
   "metadata": {},
   "outputs": [],
   "source": [
    "for value in text[::2]:\n",
    "    cursor.execute('INSERT INTO Sentences (id_text, paragraph) VALUES (?, ?)', tuple([8, value]))\n",
    "db.commit()"
   ]
  },
  {
   "cell_type": "code",
   "execution_count": 178,
   "metadata": {},
   "outputs": [],
   "source": [
    "punkt+=';,.'"
   ]
  },
  {
   "cell_type": "code",
   "execution_count": 187,
   "metadata": {},
   "outputs": [],
   "source": [
    "for key, value in enumerate(text[1::2]):\n",
    "    v = re.sub(' +', ' ', value)\n",
    "    for i in v.split(' '):\n",
    "        #norm = i.strip(punkt).lower()\n",
    "        norm = re.sub('[^\\w\\n]','',i.strip(punkt).lower())\n",
    "        #print (norm)\n",
    "        cursor.execute('INSERT INTO Tokens (id_sent, token, normalized, lang) VALUES (?, ?, ?, ?)', \n",
    "                        tuple([415+key, i, norm, 'D']))"
   ]
  },
  {
   "cell_type": "code",
   "execution_count": 188,
   "metadata": {},
   "outputs": [],
   "source": [
    "db.commit()"
   ]
  },
  {
   "cell_type": "code",
   "execution_count": null,
   "metadata": {},
   "outputs": [],
   "source": []
  },
  {
   "cell_type": "code",
   "execution_count": 198,
   "metadata": {},
   "outputs": [],
   "source": [
    "#ludwigslied\n",
    "with open('ahd-texts/texts/evangelienbuch.txt') as f:\n",
    "    text = re.sub('\\n\\n','\\n',re.sub('<.*?>', '', f.read().strip())).split('\\n')"
   ]
  },
  {
   "cell_type": "code",
   "execution_count": 201,
   "metadata": {},
   "outputs": [],
   "source": [
    "for key, value in enumerate(text):\n",
    "    text[key] = value.strip().split('    ')"
   ]
  },
  {
   "cell_type": "code",
   "execution_count": 204,
   "metadata": {},
   "outputs": [],
   "source": [
    "titles = []\n",
    "parsed = []\n",
    "for value in text:\n",
    "    if len(value) == 1:\n",
    "        titles.append(value[0])\n",
    "        parsed.append([])\n",
    "    elif len(value) == 2:\n",
    "        parsed[-1].append(tuple(value))\n",
    "    else:\n",
    "        print ('!!')"
   ]
  },
  {
   "cell_type": "code",
   "execution_count": 205,
   "metadata": {},
   "outputs": [
    {
     "data": {
      "text/plain": [
       "['I. CUR SCRIPTOR HUNC LIBRUM THEOTISCE DICTAVERIT.',\n",
       " 'IV. FUIT IN DIEBUS HERODIS REGIS SACERDOS NOMINE ZACHARIAS.',\n",
       " 'XXI. DE MORTE HERODIS.',\n",
       " 'VIII. NUPTIAE FACTAE SUNT.']"
      ]
     },
     "execution_count": 205,
     "metadata": {},
     "output_type": "execute_result"
    }
   ],
   "source": [
    "titles"
   ]
  },
  {
   "cell_type": "code",
   "execution_count": 211,
   "metadata": {},
   "outputs": [],
   "source": [
    "for key, value in enumerate(titles):\n",
    "    for i in parsed[key]:\n",
    "        cursor.execute('INSERT INTO Sentences (id_text, paragraph, sub) VALUES (?, ?, ?)', tuple([10, value, i[0]]))\n",
    "db.commit()"
   ]
  },
  {
   "cell_type": "code",
   "execution_count": 216,
   "metadata": {},
   "outputs": [],
   "source": [
    "result = []\n",
    "for i in parsed:\n",
    "    for j in i:\n",
    "        result.append(j)"
   ]
  },
  {
   "cell_type": "code",
   "execution_count": 217,
   "metadata": {},
   "outputs": [
    {
     "data": {
      "text/plain": [
       "('Verse: 1', 'Was líuto filu in flíze,   \\\\   in managemo ágaleize,')"
      ]
     },
     "execution_count": 217,
     "metadata": {},
     "output_type": "execute_result"
    }
   ],
   "source": [
    "result[0]"
   ]
  },
  {
   "cell_type": "code",
   "execution_count": 219,
   "metadata": {},
   "outputs": [
    {
     "data": {
      "text/plain": [
       "284"
      ]
     },
     "execution_count": 219,
     "metadata": {},
     "output_type": "execute_result"
    }
   ],
   "source": [
    "len(result)"
   ]
  },
  {
   "cell_type": "code",
   "execution_count": 221,
   "metadata": {},
   "outputs": [
    {
     "data": {
      "text/plain": [
       "[('Verse: 1', 'Was líuto filu in flíze,   \\\\   in managemo ágaleize,'),\n",
       " ('Verse: 2',\n",
       "  'sie thaz in scríp gicleiptin,   \\\\   thaz siẹ iro námon breittin;'),\n",
       " ('Verse: 3', 'Sie thés in io gilícho   \\\\   flizzun gúallicho,'),\n",
       " ('Verse: 4', 'in búachon man giméinti   \\\\   thio iro chúanheiti.'),\n",
       " ('Verse: 5', 'Tharána dátun sie ouh thaz dúam:   \\\\   óugdun iro wísduam,'),\n",
       " ('Verse: 6', 'óugdun iro cléini   \\\\   in thes tíhtonnes reini.'),\n",
       " ('Verse: 7', 'Iz ist ál thuruh nót   \\\\   so kléino girédinot'),\n",
       " ('Verse: 8', '(iz dúnkal eigun fúntan,   \\\\   zisámane gibúntan),'),\n",
       " ('Verse: 9',\n",
       "  'Sie ouh in thíu gisagetin,   \\\\   thaz then thio búah nirsmáhetin,'),\n",
       " ('Verse: 10', 'joh wól er sih firwésti,   \\\\   then lésan iz gilústi.'),\n",
       " ('Verse: 11', 'Zi thiu mág man ouh ginóto   \\\\   mánagero thíoto'),\n",
       " ('Verse: 12', 'hiar námon nu gizéllen   \\\\   joh súntar ginénnen.'),\n",
       " ('Verse: 13', 'Sar Kríachi joh Románi   \\\\   iz máchont so gizámi,'),\n",
       " ('Verse: 14', 'iz máchont sịẹ al girústit,   \\\\   so thíh es wola lústit;'),\n",
       " ('Verse: 15', 'Sie máchont iz so réhtaz   \\\\   joh so fílu sléhtaz,'),\n",
       " ('Verse: 16', 'iz ist gifúagit al in éin   \\\\   selp so hélphantes béin.'),\n",
       " ('Verse: 17', 'Thie dáti man giscríbe:   \\\\   theist mannes lúst zi líbe;'),\n",
       " ('Verse: 18', 'nim góuma thera díhta:   \\\\   thaz húrsgit thina dráhta.'),\n",
       " ('Verse: 19', 'Ist iz prósun slihti:   \\\\   thaz drénkit thih in ríhti;'),\n",
       " ('Verse: 20', 'odo métres kléini:   \\\\   theist góuma filu réini.'),\n",
       " ('Verse: 21', 'Sie dúent iz filu súazi,   \\\\   joh mézent sie thie fúazi,'),\n",
       " ('Verse: 22', 'thie léngi joh thie kúrti,   \\\\   theiz gilústlichaz wúrti.'),\n",
       " ('Verse: 23', 'Éigun sie iz bithénkit,   \\\\   thaz síllaba in ni wénkit,'),\n",
       " ('Verse: 24', 'sies álleswio ni rúachent,   \\\\   ni so thie fúazi suachent;'),\n",
       " ('Verse: 25', 'Joh állo thio zíti   \\\\   so záltun sie bi nóti;'),\n",
       " ('Verse: 26', 'iz mízit ana bága   \\\\   al io súlih waga.'),\n",
       " ('Verse: 27', 'Yrfúrbent sie iz réino   \\\\   joh hárto filu kléino,'),\n",
       " ('Verse: 28', 'selb so mán thuruh nót   \\\\   sinaz kórn reinot.'),\n",
       " ('Verse: 29', 'Ouh selbun búah frono   \\\\   irréinont sie so scóno;'),\n",
       " ('Verse: 30', 'thar lisist scóna gilust   \\\\   ána theheiniga ákust.'),\n",
       " ('Verse: 31', 'Nu es fílu manno inthíhit,   \\\\   in sína zungun scríbit,'),\n",
       " ('Verse: 32', 'joh ílit, er gigáhe,   \\\\   thaz sínaz io gihóhe:'),\n",
       " ('Verse: 33', 'Wánana sculun Fránkon   \\\\   éinon thaz biwánkon,'),\n",
       " ('Verse: 34', 'ni sie in frénkisgon bigínnen,   \\\\   sie gotes lób singen?'),\n",
       " ('Verse: 35', 'Níst si so gisúngan,   \\\\   mit régulu bithuúngan:'),\n",
       " ('Verse: 36', 'si hábet thoh thia ríhti   \\\\   in scóneru slíhti.'),\n",
       " ('Verse: 37', 'Íli thu zi nóte,   \\\\   theiz scóno thoh gilute,'),\n",
       " ('Verse: 38', 'joh gótes wizod thánne   \\\\   tharána scono hélle;'),\n",
       " ('Verse: 39', 'Tház tharana sínge,   \\\\   iz scóno man ginenne;'),\n",
       " ('Verse: 40', 'in themo firstántnisse   \\\\   wir giháltan sin giwísse;'),\n",
       " ('Verse: 41', 'Thaz láz thir wesan súazi:   \\\\   so mézent iz thie fúazi,'),\n",
       " ('Verse: 42', 'zít joh thiu régula;   \\\\   so ịst gótes selbes brédiga.'),\n",
       " ('Verse: 43', 'Wil thú thes wola dráhton,   \\\\   thu métar wolles áhton,'),\n",
       " ('Verse: 44',\n",
       "  'in thína zungun wirken dúam   \\\\   joh sconu vérs wolles dúan:'),\n",
       " ('Verse: 45', 'Il io gótes willen   \\\\   állo ziti irfúllen,'),\n",
       " ('Verse: 46', 'so scribent gótes thegana   \\\\   in frénkisgon thie regula;'),\n",
       " ('Verse: 47', 'In gótes gibotes súazi   \\\\   laz gángan thine fúazi,'),\n",
       " ('Verse: 48',\n",
       "  'ni laz thir zít thes ingán:   \\\\   theist sconi férs sar gidán;'),\n",
       " ('Verse: 49', 'Díhtọ io thaz zi nóti   \\\\   theso séhs ziti,'),\n",
       " ('Verse: 50',\n",
       "  'thaz thú thih so girústes,   \\\\   in theru síbuntun giréstes.'),\n",
       " ('Verse: 51',\n",
       "  'Thaz Krístes wort uns ságetun   \\\\   joh drúta sine uns zélitun,'),\n",
       " ('Verse: 52', 'bifora lázu ih iz ál,   \\\\   so ịh bi réhtemen scal;'),\n",
       " ('Verse: 53', 'Wánta sie iz gisúngun   \\\\   hárto in édilzungun,'),\n",
       " ('Verse: 54', 'mit góte iz allaz ríatun,   \\\\   in wérkon ouh gizíartun.'),\n",
       " ('Verse: 55', 'Theist súazi joh ouh núzzi   \\\\   inti lérit unsih wízzi,'),\n",
       " ('Verse: 56', 'hímilis gimácha,   \\\\   bi thiu ist thaz ánder racha.'),\n",
       " ('Verse: 57',\n",
       "  'Ziu sculun Fránkon, so ih quád,   \\\\   zi thiu éinen wesan úngimah,'),\n",
       " ('Verse: 58',\n",
       "  'thie líut es wiht ni duáltun,   \\\\   thie wir hiar óba zaltun?'),\n",
       " ('Verse: 59', 'Sie sint so sáma chuani,   \\\\   sélb so thie Románi;'),\n",
       " ('Verse: 60',\n",
       "  'ni thárf man thaz ouh rédinon,   \\\\   thaz Kríachi in thes giwídaron.'),\n",
       " ('Verse: 61', 'Sie éigun in zi núzzi   \\\\   so sámalicho wízzi,'),\n",
       " ('Verse: 62', 'in félde joh in wálde   \\\\   so sint sie sáma balde;'),\n",
       " ('Verse: 63', 'Ríhiduam ginúagi   \\\\   joh sint ouh fílu kuani,'),\n",
       " ('Verse: 64', 'zi wáfane snelle   \\\\   so sínt thie théganạ alle.'),\n",
       " ('Verse: 65', 'Sie búent mit gizíugon   \\\\   (joh warun io thes giwón)'),\n",
       " ('Verse: 66', 'in gúatemo lánte;   \\\\   bi thíu sint sịẹ únscante.'),\n",
       " ('Verse: 67', 'Iz ist fílu feizit   \\\\   (hárto ist iz giwéizit)'),\n",
       " ('Verse: 68', 'mit mánagfalten éhtin;   \\\\   níst iz bi unsen fréhtin.'),\n",
       " ('Verse: 69', 'Zi núzze grébit man ouh thár   \\\\   ér inti kúphar,'),\n",
       " ('Verse: 70', 'joh bi thía meina   \\\\   ísine steina;'),\n",
       " ('Verse: 71', 'Ouh thárazua fúagi   \\\\   sílabar ginúagi,'),\n",
       " ('Verse: 72', 'joh lésent thar in lánte   \\\\   góld in iro sante.'),\n",
       " ('Verse: 73', 'Sie sint fástmuate   \\\\   zi mánagemo guate,'),\n",
       " ('Verse: 74', 'zi mánageru núzzi;   \\\\   thaz dúent in iro wízzi.'),\n",
       " ('Verse: 75', 'Sie sint fílu redie   \\\\   sih fíanton zirrettinne;'),\n",
       " ('Verse: 76', 'ni gidúrrun sies bigínnan,   \\\\   sie éigun sẹ ubarwúnnan.'),\n",
       " ('Verse: 77', 'Líut sih in nintfúarit,   \\\\   thaz iro lánt ruarit,'),\n",
       " ('Verse: 78', 'ni sie bị íro gúati   \\\\   in thíonon io zi noti;'),\n",
       " ('Verse: 79', 'Joh ménnisgon álle,   \\\\   ther sé iz ni untarfálle,'),\n",
       " ('Verse: 80', '(ih weiz, iz gót worahta)   \\\\   al éigun se iro forahta.'),\n",
       " ('Verse: 81', 'Nist líut thaz es bigínne,   \\\\   thaz widar ín ringe;'),\n",
       " ('Verse: 82', 'in éigun sie iz firméinit,   \\\\   mit wáfanon gizéinit.'),\n",
       " ('Verse: 83',\n",
       "  'Sie lértun sịẹ iz mit swérton,   \\\\   nálas mit then wórton,'),\n",
       " ('Verse: 84',\n",
       "  'mit spéron filu wásso;   \\\\   bi thiu fórahten sie se nóh so.'),\n",
       " ('Verse: 85',\n",
       "  'Ni si thíot thaz thes gidráhte,   \\\\   in thiu iz mit ín fehte,'),\n",
       " ('Verse: 86', 'thoh Médị iz sin joh Pérsi,   \\\\   núb in es thiu wírs si.'),\n",
       " ('Verse: 87', 'Lás ih iu in alawár   \\\\   in einen búachon (ih weiz wár),'),\n",
       " ('Verse: 88', 'sie in síbbu joh in áhtu   \\\\   sin Alexándres slahtu,'),\n",
       " ('Verse: 89',\n",
       "  'Ther wórolti so githréwita,   \\\\   mit suértu siạ al gistréwita'),\n",
       " ('Verse: 90', 'úntar sinen hánton   \\\\   mit fílu herten bánton;'),\n",
       " ('Verse: 91', 'Joh fánd in theru rédinu,   \\\\   tház fon Macedóniu'),\n",
       " ('Verse: 92', 'ther líut in gibúrti   \\\\   giscéidiner wúrti.'),\n",
       " ('Verse: 93', 'Nist untar ín thaz thúlte,   \\\\   thaz kúning iro wálte,'),\n",
       " ('Verse: 94', 'in wórolti nihéine,   \\\\   ni si thíe sie zugun héime;'),\n",
       " ('Verse: 95', 'Odo in érdringe   \\\\   ánder thes bigínne'),\n",
       " ('Verse: 96', 'in thihéinigemo thíete,   \\\\   thaz ubar síe gibíete.'),\n",
       " ('Verse: 97', 'Thes éigun sie io núzzi   \\\\   in snélli joh in wízzi;'),\n",
       " ('Verse: 98',\n",
       "  'nị intrátent sie nihéinan,   \\\\   unz sẹ ínan eigun héilan.'),\n",
       " ('Verse: 99', 'Er ist gizál ubar ál,   \\\\   io so édilthegan skál,'),\n",
       " ('Verse: 100', 'wíser inti kúani;   \\\\   thero éigun sie ío ginúagi.'),\n",
       " ('Verse: 101', 'Wéltit er githíuto   \\\\   mánagero líuto,'),\n",
       " ('Verse: 102', 'joh zíuhit er se réine   \\\\   selb so síne heime.'),\n",
       " ('Verse: 103',\n",
       "  'Ni sínt thie ímo ouh derien,   \\\\   in thiu nan Fránkon werien;'),\n",
       " ('Verse: 104', 'thie snélli sine irbiten,   \\\\   thaz síe nan umbiriten.'),\n",
       " ('Verse: 105',\n",
       "  'Wanta állaz thaz sies thénkent,   \\\\   sie ịz al mit góte wirkent;'),\n",
       " ('Verse: 106', 'ni dúent sies wíht in noti   \\\\   ána sin girati.'),\n",
       " ('Verse: 107', 'Sie sint gótes worto   \\\\   flízig filu hárto,'),\n",
       " ('Verse: 108', 'tház sie thaz gilérnen,   \\\\   thaz in thia búah zellen;'),\n",
       " ('Verse: 109', 'Tház sie thes bigínnen,   \\\\   iz úzana gisíngen,'),\n",
       " ('Verse: 110', 'joh síe iz ouh irfúllen   \\\\   mit míhilemo wíllen. --'),\n",
       " ('Verse: 111', 'Gidán ist es nu rédina,   \\\\   thaz sie sint gúate thegana,'),\n",
       " ('Verse: 112', 'ouh góte thionontị álle   \\\\   joh wísduames folle.'),\n",
       " ('Verse: 113', 'Nu will ih scríban unser héil,   \\\\   evangéliono deil,'),\n",
       " ('Verse: 114', 'so wír nu hiar bigúnnun,   \\\\   in frénkisga zungun;'),\n",
       " ('Verse: 115', 'Thaz síe ni wesen éino   \\\\   thes selben ádeilo,'),\n",
       " ('Verse: 116', 'ni man in íro gizungi   \\\\   Kristes lób sungi;'),\n",
       " ('Verse: 117', 'Joh er ouh íro worto   \\\\   gilóbot werde hárto,'),\n",
       " ('Verse: 118', 'ther sie zímo holeta,   \\\\   zi gilóubon sinen ládota.'),\n",
       " ('Verse: 119', 'Ist ther in íro lante   \\\\   iz álleswio nintstánte,'),\n",
       " ('Verse: 120', 'in ánder gizúngi   \\\\   firnéman iz ni kúnni:'),\n",
       " ('Verse: 121', 'Hiar hor er ío zi gúate,   \\\\   waz gót imo gibíete,'),\n",
       " ('Verse: 122', 'thaz wír imo hiar gisúngun   \\\\   in frénkisga zúngun.'),\n",
       " ('Verse: 123', 'Nu fréwen sih es álle,   \\\\   so wer so wóla wolle,'),\n",
       " ('Verse: 124', 'joh so wér si hold in múate   \\\\   Fránkono thíote,'),\n",
       " ('Verse: 125', 'Thaz wir Kríste sungun   \\\\   in únsera zungun,'),\n",
       " ('Verse: 126',\n",
       "  'joh wír ouh thaz gilébetun,   \\\\   in frénkisgon nan lóbotun!'),\n",
       " ('Verse: 1', 'In dágon eines kúninges,   \\\\   joh hárto firdánes,'),\n",
       " ('Verse: 2', 'was ein éwarto,   \\\\   zi gúate sị er ginánto!'),\n",
       " ('Verse: 3', 'Zi híun er mo quénun las,   \\\\   so thár in lante sítu was;'),\n",
       " ('Verse: 4', 'wanta warun thánne   \\\\   thie biscofa éinkunne.'),\n",
       " ('Verse: 5', 'Wárun siu béthu   \\\\   góte filu drúdu'),\n",
       " ('Verse: 6', 'joh íogiwar sínaz   \\\\   gibot fúllentaz,'),\n",
       " ('Verse: 7', 'Wízzod sínan   \\\\   ío wírkendan'),\n",
       " ('Verse: 8', 'joh reht mínnonti   \\\\   ana méindati.'),\n",
       " ('Verse: 9', 'Únbera was thiu quéna   \\\\   kindo zéizero;'),\n",
       " ('Verse: 10', 'so wárun se unzan élti   \\\\   thaz lib léitendi.'),\n",
       " ('Verse: 11', 'Zít ward tho giréisot,   \\\\   thaz er gíangi furi gót;'),\n",
       " ('Verse: 12', 'ópphoron er scólta   \\\\   bi thie síno súnta,'),\n",
       " ('Verse: 13', 'Zi góte ouh thanne thígiti,   \\\\   thaz er giscówoti'),\n",
       " ('Verse: 14', 'then líut ther gináda   \\\\   tharuze béitota.'),\n",
       " ('Verse: 15', 'Thiu hériscaf thes líutes   \\\\   stuant thar úzwertes,'),\n",
       " ('Verse: 16', 'sie wárun iro hénti   \\\\   zi gote héffenti;'),\n",
       " ('Verse: 17', 'Sinerọ éregrehti   \\\\   warun thíggenti,'),\n",
       " ('Verse: 18', 'tház er ouh gihórti   \\\\   thaz ther éwarto bati.'),\n",
       " ('Verse: 19', 'Íngiang er tho skíoro,   \\\\   góldo garo zíero,'),\n",
       " ('Verse: 20', 'mit zínseru in hénti   \\\\   thaz hus róuhenti.'),\n",
       " ('Verse: 21', 'Thár gisah er stántan   \\\\   gótes boton sconan;'),\n",
       " ('Verse: 22', 'zi thes álteres zésawi   \\\\   was sin béitonti.'),\n",
       " ('Verse: 23', 'Híntarquam tho hárto   \\\\   ther gotes éwarto,'),\n",
       " ('Verse: 24', 'intríat er thaz gisíuni,   \\\\   want íz was filu scóni;'),\n",
       " ('Verse: 25', 'Er irbléicheta,   \\\\   joh fárawun er wánta.'),\n",
       " ('Verse: 26', 'ther éngil imo zúasprah,   \\\\   tho er nan scíuhen gisah:'),\n",
       " ('Verse: 27', '\"Ni fórihti thir, bíscof,   \\\\   ih ni térru thir drof;'),\n",
       " ('Verse: 28', 'wanta ist gibét thinaz   \\\\   fon drúhtine gihórtaz,'),\n",
       " ('Verse: 29', 'Joh áltquéna thinu   \\\\   ist thir kínd berantu,'),\n",
       " ('Verse: 30', 'sun filu zéizan;   \\\\   Johánnes scal er héizan.'),\n",
       " ('Verse: 31', 'Er ist thir hérzblidi,   \\\\   ouh wírdit filu mári;'),\n",
       " ('Verse: 32', 'ist síneru gibúrti   \\\\   sih worolt méndenti.'),\n",
       " ('Verse: 33', 'Gúati so ịst er hóher   \\\\   joh góte filu líuber;'),\n",
       " ('Verse: 34', 'íst er ouh fon júgendi   \\\\   filu fástenti.'),\n",
       " ('Verse: 35', 'Ni fúllit er sih wínes,   \\\\   ouh lídes nihéines;'),\n",
       " ('Verse: 36', 'fon réve thera múater   \\\\   so íst er io giwíhter;'),\n",
       " ('Verse: 37', 'Fílu thesses líutes   \\\\   in abuh írrentes'),\n",
       " ('Verse: 38', 'ist er zi gótes henti   \\\\   wola chérenti.'),\n",
       " ('Verse: 39', 'Er férit fora Kríste   \\\\   mit sélbomo géiste,'),\n",
       " ('Verse: 40', 'then ju in áltworolti   \\\\   Helías was ouh hábenti.'),\n",
       " ('Verse: 41', 'Gikérit er scóno   \\\\   thaz herza fórdrono'),\n",
       " ('Verse: 42', 'in kindọ ínbrusti   \\\\   zi gotes ánalusti;'),\n",
       " ('Verse: 43', 'Thie ungilóubige   \\\\   gekérit er zi líbe,'),\n",
       " ('Verse: 44', 'thie dúmbon duat ouh thánne   \\\\   zi wísemo manne;'),\n",
       " ('Verse: 45', 'Zi thíu thaz er gigárawe   \\\\   thie liuti wírdige,'),\n",
       " ('Verse: 46', 'selb drúhtine   \\\\   stráza zi drétanne.\"'),\n",
       " ('Verse: 47', 'Thó sprah ther bíscof,   \\\\   harto fóraht er mo thoh,'),\n",
       " ('Verse: 48', 'ni was imọ ánawani   \\\\   thaz árunti sconi:'),\n",
       " ('Verse: 49', '\"Chúmig bin ih járo   \\\\   ju filu mánegero,'),\n",
       " ('Verse: 50', 'joh thiu quéna minu   \\\\   ist kinthes úrminnu.'),\n",
       " ('Verse: 51', 'Uns sint kínd zi béranne   \\\\   ju dága furifárane;'),\n",
       " ('Verse: 52', 'áltduam suáraz   \\\\   duit uns iz úrwanaz.'),\n",
       " ('Verse: 53', 'Iz hábet ubarstígana   \\\\   in uns júgund mánaga,'),\n",
       " ('Verse: 54', 'ni gíbit uns thaz álta,   \\\\   thaz thiu júgund scolta.'),\n",
       " ('Verse: 55', 'Wio meg ih wízzan thanne,   \\\\   thaz uns kínd werde?'),\n",
       " ('Verse: 56', 'int uns íst iz in ther élti   \\\\   binóman unz in énti.\"'),\n",
       " ('Verse: 57', 'Sprah ther gótes boto thó,   \\\\   ni thoh irbólgono,'),\n",
       " ('Verse: 58', 'was er mo avur ságenti   \\\\   thaz selba árunti:'),\n",
       " ('Verse: 59', '\"Íh bin ein thero síbino,   \\\\   thero gotes drútbotono,'),\n",
       " ('Verse: 60', 'thie ịn síneru gisíhti   \\\\   sint io stántenti,'),\n",
       " ('Verse: 61', 'Thi er héra in worolt séntit,   \\\\   thann er kráft wirkit,'),\n",
       " ('Verse: 62', 'joh wérk filu hébigu   \\\\   ist iru kúndentu.'),\n",
       " ('Verse: 63', 'Sánt er mih fon hímile,   \\\\   thiz sélba thir zi ságanne,'),\n",
       " ('Verse: 64', 'fon hímilriches hóhi,   \\\\   theih thir iz wís dati.'),\n",
       " ('Verse: 65', 'Nu thu thaz árunti   \\\\   so hárto bist formónanti:'),\n",
       " ('Verse: 66', 'nu wird thu stúmmer sar,   \\\\   unz thú ịz gisehes álawar;'),\n",
       " ('Verse: 67', 'Wanta thu ábahonti   \\\\   bist gotes árunti,'),\n",
       " ('Verse: 68',\n",
       "  'int óuh thaz bist fyrságenti   \\\\   thaz sélbo got ist gébenti.'),\n",
       " ('Verse: 69', 'Iz wírdit thoh irfúllit,   \\\\   so got gisázta thia zít;'),\n",
       " ('Verse: 70', 'unz tház tharbe hárto   \\\\   thero thínero wórto.\"'),\n",
       " ('Verse: 71', 'Úze stuant ther líut thar,   \\\\   wás sie filu wúntar,'),\n",
       " ('Verse: 72', 'ziu ther éwarto   \\\\   duáleti so hárto;'),\n",
       " ('Verse: 73', 'Gibetes ántfangi   \\\\   fon góte ni giságeti,'),\n",
       " ('Verse: 74', 'mit síneru hénti   \\\\   sie ouh wari wíhenti.'),\n",
       " ('Verse: 75', 'Gíang er uz tho spáto,   \\\\   híntarqueman thráto;'),\n",
       " ('Verse: 76',\n",
       "  'theru spráhạ er bilémit was,   \\\\   want er gilóubig ni was.'),\n",
       " ('Verse: 77', 'Tho was er bóuhnenti,   \\\\   nales spréchenti,'),\n",
       " ('Verse: 78', 'thaz ménigi thes líutes   \\\\   fuari héimortes.'),\n",
       " ('Verse: 79', 'Sie fuarun drúrenti   \\\\   joh ouh tho áhtonti,'),\n",
       " ('Verse: 80', 'want er wíht zin ni spráh,   \\\\   thaz er thar wúntar gisah.'),\n",
       " ('Verse: 81', 'Thes ópheres zíti   \\\\   warun éntonti,'),\n",
       " ('Verse: 82', 'fúar er ouh tho sáre   \\\\   zi sínemo gifúare.'),\n",
       " ('Verse: 83', 'Thera spráha mórnenti,   \\\\   thes wánes was sih fréwenti;'),\n",
       " ('Verse: 84', 'gilóubt er filu spáto,   \\\\   bi thiu béitota er so nóto.'),\n",
       " ('Verse: 85', 'Thiu quena sun was drágenti   \\\\   jóh sih harto scámenti,'),\n",
       " ('Verse: 86', 'tház siu scolta in élti   \\\\   mit kínde gan in hénti.'),\n",
       " ('Verse: 1',\n",
       "  'Tho ẹrstarp ther kúning Heród,   \\\\   joh hina fúarta inan tod,'),\n",
       " ('Verse: 2', 'mit tódu er dága fulta   \\\\   ther io in ábuh wolta:'),\n",
       " ('Verse: 3', 'Thar Jóseph was in lánte   \\\\   hina in élilente,'),\n",
       " ('Verse: 4', 'quam ímbot imo in dróume,   \\\\   er thes kíndes wola góume;'),\n",
       " ('Verse: 5', 'Thia múater ouh bibrínge   \\\\   zị iro héiminge,'),\n",
       " ('Verse: 6', 'joh wison héimortes   \\\\   éiganes lantes.'),\n",
       " ('Verse: 7',\n",
       "  '\"Ni si thír es\", quad er, \"nót,   \\\\   ther iro fíant ther ist dót;'),\n",
       " ('Verse: 8', 'bi thiu ili io thés sinthes   \\\\   thes iro héiminges.\"'),\n",
       " ('Verse: 9', 'Fuar er sár heimort,   \\\\   firnam ouh gérno thiu wort;'),\n",
       " ('Verse: 10', 'sáman mit ther múater   \\\\   so fuar ther sún guater.'),\n",
       " ('Verse: 11', 'Tho gihort er mári,   \\\\   thar ander kúning wari;'),\n",
       " ('Verse: 12', 'joh ouh théro worto   \\\\   híntarquam er hárto.'),\n",
       " ('Verse: 13', 'Kért er tho in fíara   \\\\   in eina búrg ziara;'),\n",
       " ('Verse: 14',\n",
       "  'thaz kínd er scóno thar irzóh   \\\\   joh then fíanton intfloh.'),\n",
       " ('Verse: 15', 'Wúahs er filu zíoro   \\\\   in wízzin wola skíoro,'),\n",
       " ('Verse: 16', 'in wísduam theh io thánne   \\\\   mit góte joh mit mánne.'),\n",
       " ('Verse: 1', 'After thíu in war mín   \\\\   so mohtun thrí daga sin;'),\n",
       " ('Verse: 2',\n",
       "  'so thes thrítten dages sár   \\\\   so wárd thiz thaz ih ságen thar.'),\n",
       " ('Verse: 3', 'Úaptun thar thie líuti   \\\\   eino brútloufti'),\n",
       " ('Verse: 4', 'themo wírte joh theru brúti   \\\\   in sáligeru zíti.'),\n",
       " ('Verse: 5', 'Ni ward io in wóroltzitin,   \\\\   thiu zisámane gihítin,'),\n",
       " ('Verse: 6', 'thaz sih gésto guati   \\\\   súlihhero rúamti.'),\n",
       " ('Verse: 7', 'Thar was Kríst guater   \\\\   joh sélba ouh thiu sin múater,'),\n",
       " ('Verse: 8', 'óuh man thara ládota   \\\\   thie júngoron thier tho hábeta.'),\n",
       " ('Verse: 9', 'Thiu hiun wárun filu fró,   \\\\   giwerdan móhta siu es thó:'),\n",
       " ('Verse: 10',\n",
       "  'sie habetun thár selbon Kríst,   \\\\   ther álles blides fúrista ist.'),\n",
       " ('Verse: 11', 'Thó zigiang thes lídes   \\\\   joh brást in thar thes wínes;'),\n",
       " ('Verse: 12', 'María thaz bihúgita,   \\\\   joh Kríste si iz giságeta.'),\n",
       " ('Verse: 13',\n",
       "  '\"Ih scal thir ságen, min kínd,   \\\\   then híon filu hébig thing,'),\n",
       " ('Verse: 14', 'theih míthon ouh nu wésta:   \\\\   thes wínes ist in brésta.\"'),\n",
       " ('Verse: 15', 'Spráh tho zi iru súazo   \\\\   ther ira sún zeizo'),\n",
       " ('Verse: 16', 'sconen wórton ubar ál,   \\\\   so sun zi múater scal:'),\n",
       " ('Verse: 17',\n",
       "  '\"Wib, ih zéllu thir ein,   \\\\   waz drífit sulih zi úns zuein?'),\n",
       " ('Verse: 18',\n",
       "  'ni quam min zít noh so frám,   \\\\   theih óuge weih fon thír nam.'),\n",
       " ('Verse: 19', 'Sar so tház irscínit,   \\\\   waz mih fon thír rinit,'),\n",
       " ('Verse: 20', 'so ist thir állan then dag   \\\\   thaz hérza filu ríuag.'),\n",
       " ('Verse: 21', 'Thaz thu zi mír nu quáti   \\\\   inti eina klága es dati,'),\n",
       " ('Verse: 22', 'mit gótkundlichen ráchon   \\\\   scal man súlih machon.\"'),\n",
       " ('Verse: 23',\n",
       "  'Thiu muater hórta thaz tho thár;   \\\\   si wéssa thoh in álawar,'),\n",
       " ('Verse: 24', 'thaz íru thiu sin gúati   \\\\   nirzígi thes siu báti.'),\n",
       " ('Verse: 25', 'Gibót si then sar gáhun   \\\\   then thes lídes sahun,'),\n",
       " ('Verse: 26', 'so wás so er in giquáti,   \\\\   iz íagiliher dati.'),\n",
       " ('Verse: 27', 'Thar stuantun wázarfaz,   \\\\   so thár in lante sítu was,'),\n",
       " ('Verse: 28', 'then mánnon sus iowánne   \\\\   sih zi wásganne.'),\n",
       " ('Verse: 29', 'Thaz warun séhs kruagi;   \\\\   zi thíu was thar ginúagi,'),\n",
       " ('Verse: 30', 'tho zi thén rachon,   \\\\   thio drúhtin wolta máchon.'),\n",
       " ('Verse: 31', 'Thaz méz, wir ofto zéllen   \\\\   joh séxtari iz nénnen --'),\n",
       " ('Verse: 32', 'nam íagilih in redinu   \\\\   thrízug stunton zéhinu'),\n",
       " ('Verse: 33', 'Odo zuíro zéhanzug,   \\\\   thes duent búah thar gihúgt;'),\n",
       " ('Verse: 34',\n",
       "  'warun stéininu thiu fáz,   \\\\   siu mohtun wéren thes thiu báz.'),\n",
       " ('Verse: 35', 'Gibót tho selbo drúhtin,   \\\\   siu wázares irfúltin;'),\n",
       " ('Verse: 36', 'thaz dátun sie giwurtig   \\\\   unz in óbanentig.'),\n",
       " ('Verse: 37',\n",
       "  'Tho quád er thaz sie skánctin,   \\\\   zi themo héresten sih wántin,'),\n",
       " ('Verse: 38', 'ther thero thríosezzo   \\\\   was fúristo gimazzo.'),\n",
       " ('Verse: 39', 'Drank ér tho so nan lústa;   \\\\   er wíht es thoh ni wésta,'),\n",
       " ('Verse: 40',\n",
       "  'es wiht ni quám imo ouh in wán,   \\\\   theiz was fon wázare gidan.'),\n",
       " ('Verse: 41',\n",
       "  'Thie mán thoh thie thar scanktun,   \\\\   iz fílu wola irkántun,'),\n",
       " ('Verse: 42', 'theiz wazzar lútaraz was,   \\\\   tho sie fúltun thiu vaz.'),\n",
       " ('Verse: 43', 'Then wírt er thara ládota   \\\\   joh zi ímo nan gihólota,'),\n",
       " ('Verse: 44', 'sih harto wúntorota sin   \\\\   bi then frónisgan win.'),\n",
       " ('Verse: 45', '\"Ságe mir nu, friunt mín,   \\\\   wio dati só bi then win,'),\n",
       " ('Verse: 46', 'thih sus es nu inthábetos,   \\\\   so lángo nan gispáratos?'),\n",
       " ('Verse: 47', 'Gíbit giwelih mánno,   \\\\   ther fríunta frewit gérno,'),\n",
       " ('Verse: 48',\n",
       "  '(ih weiz, thu es ínnana bist)   \\\\   then fúriston io sar zi érist.'),\n",
       " ('Verse: 49',\n",
       "  'So thie mán sih thanne irwínnent   \\\\   joh drúnkanen bigínnent:'),\n",
       " ('Verse: 50', 'so skenkit állan then dag   \\\\   súlih sos iz wésan mag.'),\n",
       " ('Verse: 51', 'Ja gispáratos avur thú   \\\\   then guaton wín unz in nú!'),\n",
       " ('Verse: 52',\n",
       "  'ih scál thir ouh nu ráchon,   \\\\   ni drénk ih thes gimáchon.\"'),\n",
       " ('Verse: 53', 'Thiz zéichan deta druhtin Kríst   \\\\   ménnisgon zi érist,'),\n",
       " ('Verse: 54', 'síd er hera in wórolt quam   \\\\   joh mannes líchamon nam.'),\n",
       " ('Verse: 55',\n",
       "  'Er óugta sina kráft thar   \\\\   joh sina gúallichi, theist wár;'),\n",
       " ('Verse: 56', 'tho gilóubtun ekordị éine   \\\\   thie júngoron síne.')]"
      ]
     },
     "execution_count": 221,
     "metadata": {},
     "output_type": "execute_result"
    }
   ],
   "source": [
    "result"
   ]
  },
  {
   "cell_type": "code",
   "execution_count": 224,
   "metadata": {},
   "outputs": [],
   "source": [
    "punkt += '\\\\'"
   ]
  },
  {
   "cell_type": "code",
   "execution_count": 229,
   "metadata": {},
   "outputs": [],
   "source": [
    "#545\n",
    "k = 545\n",
    "for key, value in enumerate(result):\n",
    "    v = re.sub(' +', ' ', value[1])\n",
    "    for i in v.split(' '):\n",
    "        norm = i.strip(punkt).lower()\n",
    "        if norm != '':\n",
    "            #print (norm)\n",
    "            cursor.execute('INSERT INTO Tokens (id_sent, token, normalized, lang) VALUES (?, ?, ?, ?)', \n",
    "                            tuple([419+key, i, norm, 'D']))"
   ]
  },
  {
   "cell_type": "code",
   "execution_count": 230,
   "metadata": {},
   "outputs": [],
   "source": [
    "db.commit()"
   ]
  },
  {
   "cell_type": "code",
   "execution_count": null,
   "metadata": {},
   "outputs": [],
   "source": []
  },
  {
   "cell_type": "code",
   "execution_count": 233,
   "metadata": {},
   "outputs": [],
   "source": [
    "#physyologus\n",
    "with open('ahd-texts/texts/physyologus.txt') as f:\n",
    "    text = f.read().strip().split('\\n\\n')"
   ]
  },
  {
   "cell_type": "code",
   "execution_count": 236,
   "metadata": {},
   "outputs": [],
   "source": [
    "text = ['[I]n demo uuázzere Nilo ist éinero slahta nátera, diû heizzit ídris\\n un ist fîent démo kórcodrîllo. dénne  so beuuillet síh dîu ídris in\\n horuue unde sprinet imo in den mûnt unde sliuffet ín ín. só bízzet \\n síun ínnan. unzin er stírbit, únde uérit siû gesunt úz. Ter corcodrillus \\n bezeichene tôt unde hella. Tú idrís bézechenet únsirin tróhtin, \\n dér an sih nam den menischen líhhamin, zé diu, dáz ér unsirin \\n tôt féruuórf ún er hélla roûboti under sigehaf hêim chámé.',\n",
    " '[Í] demo mére sínt uunderlihu uuihtir, diu heîzzent sirenê unde\\n onocentauri. Sirêne sínt méremanniu unde sint uuíbe gélîh únzi\\n zé démo nábilin, dannan ûf uogele, unde múgin uíle scóno sînen.\\n Só sí gesehînt [man án demo mére uarin, so sinen sio uílo scôno, \\n únzin si des uúnnisamin lîdes so gelustigot uuerdin, daz s inslâfin. \\n Só dáz mermanni daz gesîhít, so uerd ez in úndé bríhit si An diu \\n bezeine ez den fîánt, dér dés mannis muôt spénit ze din uueriltlihen \\n lusten. \\n Té ónocentaurus, ér ist hâlb man, halb ésil, únde bézeichinet \\n dí dir zuîuáltic sínt ín ír zûnon ún in íro hêrzon, unde daz pílide \\n dés réhtis habin ún ez doh an ir uuerchin nîht eruullint.',\n",
    " '[E]î tîer heizzit ígena un íst uuílon uuíb, uuîlon mân, unde durih\\n daz ist ez uile unreine. solihe uuarin, di der erist Crist petiton un\\n after diu abgot beginen. Daz bézeîchenet di der neuuedir noh ungeloubige \\n noh rehte geloubige nesint. Von di chat Salomon »Dí dir \\n zuivaltic sint in ir herzin, diê sint oûh zuivaltic i iro uuerchin«']"
   ]
  },
  {
   "cell_type": "code",
   "execution_count": 237,
   "metadata": {},
   "outputs": [],
   "source": [
    "for key, value in enumerate(text):\n",
    "    text[key] = text[key].replace(' \\n', '\\n')"
   ]
  },
  {
   "cell_type": "code",
   "execution_count": 239,
   "metadata": {},
   "outputs": [],
   "source": [
    "for key, value in enumerate(text):\n",
    "    v = re.sub(' +', ' ', value)\n",
    "    for i in v.split(' '):\n",
    "        norm = i.strip(punkt).lower()\n",
    "        if norm != '':\n",
    "            #print (norm)\n",
    "            cursor.execute('INSERT INTO Tokens (id_sent, token, normalized, lang) VALUES (?, ?, ?, ?)', \n",
    "                            tuple([703+key, i, norm, 'D']))"
   ]
  },
  {
   "cell_type": "code",
   "execution_count": 240,
   "metadata": {},
   "outputs": [],
   "source": [
    "db.commit()"
   ]
  },
  {
   "cell_type": "code",
   "execution_count": null,
   "metadata": {},
   "outputs": [],
   "source": []
  },
  {
   "cell_type": "code",
   "execution_count": 13,
   "metadata": {},
   "outputs": [],
   "source": [
    "#ludwigslied\n",
    "with open('ahd-texts/texts/ludwigslied.txt') as f:\n",
    "    text = [i.strip() for i in re.sub(' +\\n +', '\\n ', f.read().strip()).split('\\n\\n')]"
   ]
  },
  {
   "cell_type": "code",
   "execution_count": 16,
   "metadata": {},
   "outputs": [
    {
     "data": {
      "text/plain": [
       "38"
      ]
     },
     "execution_count": 16,
     "metadata": {},
     "output_type": "execute_result"
    }
   ],
   "source": [
    "len('Cod. Valenc. (Bibl., ms. 150), p. 142r')"
   ]
  },
  {
   "cell_type": "code",
   "execution_count": 19,
   "metadata": {},
   "outputs": [],
   "source": [
    "sub = [i for i in text if len(i) < 40]"
   ]
  },
  {
   "cell_type": "code",
   "execution_count": 20,
   "metadata": {},
   "outputs": [],
   "source": [
    "texts = [i for i in text if len(i) > 40]"
   ]
  },
  {
   "cell_type": "code",
   "execution_count": 21,
   "metadata": {},
   "outputs": [
    {
     "data": {
      "text/plain": [
       "['Cod.Valenc. (Bibl.), ms. 150, p. 141v',\n",
       " 'Ms. page: 141v',\n",
       " 'Cod. Valenc. (Bibl., ms. 150), p. 142r',\n",
       " 'Ms. page: 142r',\n",
       " 'Cod. Valenc. (Bibl., ms. 150), p. 142v',\n",
       " 'Ms. page: 142v',\n",
       " 'Page: S86',\n",
       " 'Cod.Valenc.(Bibl., ms. 150), p. 143r',\n",
       " 'Ms. page: 143r']"
      ]
     },
     "execution_count": 21,
     "metadata": {},
     "output_type": "execute_result"
    }
   ],
   "source": [
    "sub"
   ]
  },
  {
   "cell_type": "code",
   "execution_count": 28,
   "metadata": {},
   "outputs": [
    {
     "data": {
      "text/plain": [
       "[706, 707, 708, 709, 710, 711]"
      ]
     },
     "execution_count": 28,
     "metadata": {},
     "output_type": "execute_result"
    }
   ],
   "source": [
    "idx = list(range(706, 712))\n",
    "langs = 'LDDDDD'\n",
    "idx"
   ]
  },
  {
   "cell_type": "code",
   "execution_count": 36,
   "metadata": {},
   "outputs": [],
   "source": [
    "punkt+=';,..'"
   ]
  },
  {
   "cell_type": "code",
   "execution_count": 41,
   "metadata": {},
   "outputs": [],
   "source": [
    "for key, i in enumerate(texts):\n",
    "    chunk = re.sub(' {2,}', ' ', i)\n",
    "    for j in chunk.split(' '):\n",
    "        if j.strip() != '':\n",
    "            norm = re.sub('[^\\w\\n]','',j.strip(punkt).lower())\n",
    "            if re.match('[0-9]+', norm): lang = 'N'\n",
    "            else: lang = langs[key]\n",
    "            #print (j, '\\t', norm, '\\t', lang, '\\t', idx[key])\n",
    "            cursor.execute('INSERT INTO Tokens (id_sent, token, normalized, lang) VALUES (?, ?, ?, ?)', \n",
    "                           tuple([idx[key], j, norm, lang]))"
   ]
  },
  {
   "cell_type": "code",
   "execution_count": 42,
   "metadata": {},
   "outputs": [],
   "source": [
    "db.commit()"
   ]
  },
  {
   "cell_type": "code",
   "execution_count": null,
   "metadata": {},
   "outputs": [],
   "source": []
  },
  {
   "cell_type": "code",
   "execution_count": 55,
   "metadata": {},
   "outputs": [],
   "source": [
    "#ludwigslied\n",
    "with open('ahd-texts/texts/notker.txt') as f:\n",
    "    #text = [i.strip() for i in re.sub(' +\\n +', '\\n ', f.read().strip()).split('\\n\\n')]\n",
    "    text = [i.replace('\\n', '\\n ') for i in re.sub('<.*?>', '', \n",
    "                              f.read().replace('\\xa0',' ').replace(' .','.').replace(' \\n', '\\n').strip()).split('\\n\\n')]"
   ]
  },
  {
   "cell_type": "code",
   "execution_count": 58,
   "metadata": {},
   "outputs": [],
   "source": [
    "#ludwigslied\n",
    "with open('ahd-texts/texts/notker.txt') as f:\n",
    "    #text = [i.strip() for i in re.sub(' +\\n +', '\\n ', f.read().strip()).split('\\n\\n')]\n",
    "    text = [i.replace('\\n', '\\n ') for i in f.read().replace('\\xa0',' ').replace(' .','.').replace(' \\n', '\\n').strip().split('\\n\\n')]"
   ]
  },
  {
   "cell_type": "code",
   "execution_count": 60,
   "metadata": {},
   "outputs": [],
   "source": [
    "texts = [i.split(' ') for i in text]"
   ]
  },
  {
   "cell_type": "code",
   "execution_count": 63,
   "metadata": {},
   "outputs": [
    {
     "data": {
      "text/plain": [
       "9"
      ]
     },
     "execution_count": 63,
     "metadata": {},
     "output_type": "execute_result"
    }
   ],
   "source": [
    "len(texts)"
   ]
  },
  {
   "cell_type": "code",
   "execution_count": 78,
   "metadata": {
    "scrolled": false
   },
   "outputs": [],
   "source": [
    "result = []\n",
    "start = 712\n",
    "for key, t in enumerate(texts):\n",
    "    #result.append([])\n",
    "    for i in t:\n",
    "        if i != '':\n",
    "            if '<latin>' in i:\n",
    "                form = re.sub('<.*?>', '', i)\n",
    "                lang = 'L'\n",
    "            else:\n",
    "                form = i\n",
    "                lang = 'D'\n",
    "            \n",
    "            norm = re.sub('[^\\w]','',form.strip(punkt).lower())\n",
    "            if re.match('.*[0-9]+.*', i):\n",
    "                    lang = 'N'\n",
    "            \n",
    "            result.append(tuple([start + key, form, norm, lang]))"
   ]
  },
  {
   "cell_type": "code",
   "execution_count": 79,
   "metadata": {},
   "outputs": [
    {
     "data": {
      "text/plain": [
       "<sqlite3.Cursor at 0x7fa79b833ab0>"
      ]
     },
     "execution_count": 79,
     "metadata": {},
     "output_type": "execute_result"
    }
   ],
   "source": [
    "cursor.executemany('INSERT INTO Tokens (id_sent, token, normalized, lang) VALUES (?, ?, ?, ?)', result)"
   ]
  },
  {
   "cell_type": "code",
   "execution_count": 80,
   "metadata": {},
   "outputs": [],
   "source": [
    "db.commit()"
   ]
  },
  {
   "cell_type": "markdown",
   "metadata": {},
   "source": [
    "# Пронумеровать"
   ]
  },
  {
   "cell_type": "code",
   "execution_count": 2,
   "metadata": {},
   "outputs": [
    {
     "data": {
      "text/plain": [
       "<sqlite3.Cursor at 0x7f505ac38ab0>"
      ]
     },
     "execution_count": 2,
     "metadata": {},
     "output_type": "execute_result"
    }
   ],
   "source": [
    "cursor.execute('SELECT id_text, id_sent FROM Sentences')"
   ]
  },
  {
   "cell_type": "code",
   "execution_count": 3,
   "metadata": {},
   "outputs": [],
   "source": [
    "S = cursor.fetchall()"
   ]
  },
  {
   "cell_type": "code",
   "execution_count": 6,
   "metadata": {},
   "outputs": [
    {
     "data": {
      "text/plain": [
       "{1: [],\n",
       " 2: [],\n",
       " 3: [],\n",
       " 4: [],\n",
       " 5: [],\n",
       " 6: [],\n",
       " 7: [],\n",
       " 8: [],\n",
       " 9: [],\n",
       " 10: [],\n",
       " 11: [],\n",
       " 12: [],\n",
       " 13: []}"
      ]
     },
     "execution_count": 6,
     "metadata": {},
     "output_type": "execute_result"
    }
   ],
   "source": [
    "index = {i:[] for i in range(1,14)}\n",
    "index"
   ]
  },
  {
   "cell_type": "code",
   "execution_count": 7,
   "metadata": {},
   "outputs": [],
   "source": [
    "for i in S:\n",
    "    index[i[0]].append(i[1])"
   ]
  },
  {
   "cell_type": "code",
   "execution_count": 22,
   "metadata": {},
   "outputs": [],
   "source": [
    "for i in index:\n",
    "    n = ', '.join([str(j) for j in index[i]])\n",
    "    #print(type(n), n)\n",
    "    cursor.execute('SELECT id_token FROM Tokens WHERE id_sent IN ({})'.format(n))\n",
    "    T = cursor.fetchall()\n",
    "    #print (T)\n",
    "    \n",
    "    for key, t in enumerate(T):\n",
    "        #print(type(key), type(t[0]))\n",
    "        cursor.execute('UPDATE Tokens SET in_text = ? WHERE id_token = ?', (key, t[0],))"
   ]
  },
  {
   "cell_type": "code",
   "execution_count": 31,
   "metadata": {},
   "outputs": [],
   "source": [
    "db.commit()"
   ]
  },
  {
   "cell_type": "code",
   "execution_count": 30,
   "metadata": {},
   "outputs": [
    {
     "name": "stdout",
     "output_type": "stream",
     "text": [
      "1\n",
      "2\n",
      "3\n",
      "4\n",
      "5\n",
      "6\n",
      "7\n",
      "8\n",
      "9\n",
      "10\n",
      "11\n",
      "12\n",
      "13\n"
     ]
    }
   ],
   "source": [
    "for i in index:\n",
    "    n = ', '.join([str(j) for j in index[i]])\n",
    "    cursor.execute('SELECT id_token FROM Tokens WHERE id_sent IN ({})'.format(n))\n",
    "    T = cursor.fetchall()\n",
    "    print (i)\n",
    "    for key, t in enumerate(T):\n",
    "        cursor.execute('UPDATE Tokens SET id_text = ? WHERE id_token = ?', (i, t[0],))"
   ]
  },
  {
   "cell_type": "code",
   "execution_count": 16,
   "metadata": {},
   "outputs": [],
   "source": [
    "import json\n",
    "transitions = json.load(open('transitions.json'))"
   ]
  },
  {
   "cell_type": "code",
   "execution_count": 17,
   "metadata": {},
   "outputs": [],
   "source": [
    "R_transition = {}\n",
    "for i in transitions:\n",
    "    for j in transitions[i]:\n",
    "        R_transition[j] = i"
   ]
  },
  {
   "cell_type": "code",
   "execution_count": 18,
   "metadata": {},
   "outputs": [
    {
     "data": {
      "text/plain": [
       "(3922, 3862)"
      ]
     },
     "execution_count": 18,
     "metadata": {},
     "output_type": "execute_result"
    }
   ],
   "source": [
    "len(R_transition), len(transitions)"
   ]
  },
  {
   "cell_type": "code",
   "execution_count": 19,
   "metadata": {},
   "outputs": [
    {
     "data": {
      "text/plain": [
       "3922"
      ]
     },
     "execution_count": 19,
     "metadata": {},
     "output_type": "execute_result"
    }
   ],
   "source": [
    "k = 0\n",
    "for i in transitions:\n",
    "    k += len(transitions[i])\n",
    "k"
   ]
  },
  {
   "cell_type": "code",
   "execution_count": 20,
   "metadata": {},
   "outputs": [],
   "source": [
    "S = set()\n",
    "R_transition = {}\n",
    "for i in transitions:\n",
    "    for j in transitions[i]:\n",
    "        if j in S:\n",
    "            print (j, R_transition[j], i)\n",
    "        else:\n",
    "            S.add(j)\n",
    "            R_transition[j] = i"
   ]
  },
  {
   "cell_type": "code",
   "execution_count": 21,
   "metadata": {},
   "outputs": [],
   "source": [
    "cursor.execute('SELECT normalized, id_token FROM Tokens')\n",
    "data = cursor.fetchall()"
   ]
  },
  {
   "cell_type": "code",
   "execution_count": 40,
   "metadata": {},
   "outputs": [
    {
     "data": {
      "text/plain": [
       "(1318, 7650)"
      ]
     },
     "execution_count": 40,
     "metadata": {},
     "output_type": "execute_result"
    }
   ],
   "source": [
    "k = 0\n",
    "m = 0\n",
    "for i in data:\n",
    "    if i[0].strip() in R_transition:\n",
    "        cursor.execute('UPDATE Tokens SET transitioned = ? WHERE id_token = ?', (R_transition[i[0].strip()], i[1],))\n",
    "        m += 1\n",
    "    else:\n",
    "        cursor.execute('UPDATE Tokens SET transitioned = ? WHERE id_token = ?', (i[0].strip(), i[1],))\n",
    "        k += 1\n",
    "k, m"
   ]
  },
  {
   "cell_type": "code",
   "execution_count": 45,
   "metadata": {},
   "outputs": [],
   "source": [
    "db.commit()"
   ]
  },
  {
   "cell_type": "code",
   "execution_count": 42,
   "metadata": {},
   "outputs": [],
   "source": [
    "cursor.execute('SELECT normalized, id_token FROM Tokens WHERE lang=\"D\"')\n",
    "data = cursor.fetchall()"
   ]
  },
  {
   "cell_type": "code",
   "execution_count": 43,
   "metadata": {},
   "outputs": [],
   "source": [
    "DICT = json.load(open('tooltip_dict.json'))"
   ]
  },
  {
   "cell_type": "code",
   "execution_count": 44,
   "metadata": {},
   "outputs": [
    {
     "data": {
      "text/plain": [
       "(1066, 7902)"
      ]
     },
     "execution_count": 44,
     "metadata": {},
     "output_type": "execute_result"
    }
   ],
   "source": [
    "k = 0\n",
    "m = 0\n",
    "for i in data:\n",
    "    if i[0] in DICT:\n",
    "        d = '<br>'.join(DICT[i[0]])\n",
    "        cursor.execute('UPDATE Tokens SET dict = ? WHERE id_token = ?', (d, i[1],))\n",
    "        m += 1\n",
    "    else:\n",
    "        k += 1\n",
    "k, m"
   ]
  }
 ],
 "metadata": {
  "kernelspec": {
   "display_name": "Python 3",
   "language": "python",
   "name": "python3"
  },
  "language_info": {
   "codemirror_mode": {
    "name": "ipython",
    "version": 3
   },
   "file_extension": ".py",
   "mimetype": "text/x-python",
   "name": "python",
   "nbconvert_exporter": "python",
   "pygments_lexer": "ipython3",
   "version": "3.6.6"
  }
 },
 "nbformat": 4,
 "nbformat_minor": 2
}
