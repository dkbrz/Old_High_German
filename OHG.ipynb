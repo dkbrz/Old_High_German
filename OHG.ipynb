{
 "cells": [
  {
   "cell_type": "markdown",
   "metadata": {},
   "source": [
    "# OHG Corpora"
   ]
  },
  {
   "cell_type": "markdown",
   "metadata": {},
   "source": [
    "## Обработка текстов"
   ]
  },
  {
   "cell_type": "code",
   "execution_count": 5,
   "metadata": {
    "collapsed": true
   },
   "outputs": [],
   "source": [
    "import json\n",
    "import os"
   ]
  },
  {
   "cell_type": "markdown",
   "metadata": {},
   "source": [
    "### Все тексты\n",
    "Текст:\n",
    "{\n",
    "'title':'Title',\n",
    "'short': 'Short Title', \n",
    "'text': ТЕКСТ(list),\n",
    "'bag-of-words': set()}\n",
    "\n",
    "### Текст\n",
    "Словарь\n",
    "[ СЛОВО 1, СЛОВО 2, СЛОВО 3]\n",
    "\n",
    "### Слово | знак препинания\n",
    "Словарь для слова:\n",
    "\n",
    "type: word, punc, latin\n",
    "\n",
    "\n",
    "{\n",
    "'type': 'word',\n",
    "'word' : 'word',\n",
    "'lemma': 'lemma',\n",
    "'grammar': ГРАММАТИКА?\n",
    "}"
   ]
  },
  {
   "cell_type": "code",
   "execution_count": 14,
   "metadata": {
    "collapsed": false
   },
   "outputs": [],
   "source": [
    "punc = ['.',',','?','!',':', ';']\n",
    "def pre_text(text):\n",
    "    for i in punc:\n",
    "        text = text.replace(i, ' ' + i + ' ')\n",
    "    return text"
   ]
  },
  {
   "cell_type": "code",
   "execution_count": null,
   "metadata": {
    "collapsed": true
   },
   "outputs": [],
   "source": [
    "All_Texts = []"
   ]
  },
  {
   "cell_type": "code",
   "execution_count": 20,
   "metadata": {
    "collapsed": false
   },
   "outputs": [],
   "source": [
    "path = '.\\\\data\\\\tagged_texts\\\\'\n",
    "for root, dirs, files in os.walk (path):\n",
    "    for fl in files:\n",
    "        name = root+fl\n",
    "        t = { 'title': fl.replace('.txt',''), 'short': fl.replace('.txt',''), 'text': [], 'bag-of-words': set()}\n",
    "        with open(name, 'r', encoding = 'utf-8') as f:\n",
    "            words = pre_text(f.read()).split(' ')\n",
    "            for i in words:\n",
    "                if i not in punc:\n",
    "                    w = { 'type': 'punc', 'word' : i, 'lemma': i, 'grammar': ''}\n",
    "                elif 'latin>' in i:\n",
    "                    word = re.sub('<.?latin>', i)\n",
    "                    w = {'type': 'latin', 'word' : word, 'lemma': word, 'grammar': ''}\n",
    "                else:\n",
    "                    w = {'type': 'word', 'word' : i, 'lemma': i, 'grammar': ''}\n",
    "                #print (i)\n",
    "                t['text'].append(w)\n",
    "        All_Texts[]"
   ]
  },
  {
   "cell_type": "code",
   "execution_count": 21,
   "metadata": {
    "collapsed": false
   },
   "outputs": [
    {
     "ename": "NameError",
     "evalue": "name 'All_texts' is not defined",
     "output_type": "error",
     "traceback": [
      "\u001b[0;31m---------------------------------------------------------------------------\u001b[0m",
      "\u001b[0;31mNameError\u001b[0m                                 Traceback (most recent call last)",
      "\u001b[0;32m<ipython-input-21-929b97c290a6>\u001b[0m in \u001b[0;36m<module>\u001b[0;34m()\u001b[0m\n\u001b[0;32m----> 1\u001b[0;31m \u001b[0mAll_texts\u001b[0m\u001b[1;33m\u001b[0m\u001b[0m\n\u001b[0m",
      "\u001b[0;31mNameError\u001b[0m: name 'All_texts' is not defined"
     ]
    }
   ],
   "source": [
    "All_texts"
   ]
  }
 ],
 "metadata": {
  "kernelspec": {
   "display_name": "Python 3",
   "language": "python",
   "name": "python3"
  },
  "language_info": {
   "codemirror_mode": {
    "name": "ipython",
    "version": 3
   },
   "file_extension": ".py",
   "mimetype": "text/x-python",
   "name": "python",
   "nbconvert_exporter": "python",
   "pygments_lexer": "ipython3",
   "version": "3.6.0"
  }
 },
 "nbformat": 4,
 "nbformat_minor": 2
}
